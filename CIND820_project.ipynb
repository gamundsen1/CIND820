{
 "cells": [
  {
   "cell_type": "markdown",
   "metadata": {},
   "source": [
    "*************************************\n",
    "INITIALIZE\n",
    "- import Python modules\n",
    "*************************************"
   ]
  },
  {
   "cell_type": "code",
   "execution_count": 1,
   "metadata": {},
   "outputs": [],
   "source": [
    "import pandas as pd\n",
    "import numpy as np\n",
    "from sklearn.model_selection import train_test_split\n",
    "from sklearn import metrics\n",
    "from sklearn import linear_model\n",
    "import matplotlib.pyplot as plt\n",
    "from sklearn.linear_model import Ridge, RidgeCV"
   ]
  },
  {
   "cell_type": "code",
   "execution_count": 2,
   "metadata": {},
   "outputs": [
    {
     "name": "stdout",
     "output_type": "stream",
     "text": [
      "Requirement already satisfied: xgboost in /opt/conda/lib/python3.7/site-packages (1.5.1)\n",
      "Requirement already satisfied: scipy in /opt/conda/lib/python3.7/site-packages (from xgboost) (1.4.1)\n",
      "Requirement already satisfied: numpy in /opt/conda/lib/python3.7/site-packages (from xgboost) (1.18.4)\n",
      "Note: you may need to restart the kernel to use updated packages.\n"
     ]
    }
   ],
   "source": [
    "pip install xgboost"
   ]
  },
  {
   "cell_type": "code",
   "execution_count": 3,
   "metadata": {},
   "outputs": [],
   "source": [
    "import xgboost\n",
    "from xgboost import XGBRegressor"
   ]
  },
  {
   "cell_type": "markdown",
   "metadata": {},
   "source": [
    "****************************************************\n",
    "IMPORT DATA\n",
    "- import data from csv files\n",
    "- combine into 2 dataframes:\n",
    "    - Regular season\n",
    "    - Postseason\n",
    "- check summary statistics for resulting dataframes\n",
    "****************************************************"
   ]
  },
  {
   "cell_type": "code",
   "execution_count": 4,
   "metadata": {},
   "outputs": [],
   "source": [
    "#Import data\n",
    "\n",
    "df_RS_sum = pd.read_csv('Summary_RS.csv', encoding='latin-1')\n",
    "df_RS_pen = pd.read_csv('Penalties_RS.csv', encoding='latin-1')\n",
    "df_RS_tgg = pd.read_csv('Team Goal-Games_RS.csv', encoding='latin-1')\n",
    "df_RS_satc = pd.read_csv('SAT Counts_RS.csv', encoding='latin-1')\n",
    "df_RS_satp = pd.read_csv('SAT Percentages_RS.csv', encoding='latin-1')\n",
    "\n",
    "df_PS_sum = pd.read_csv('Summary_PS.csv', encoding='latin-1')\n",
    "df_PS_pen = pd.read_csv('Penalties_PS.csv', encoding='latin-1')\n",
    "df_PS_tgg = pd.read_csv('Team Goal-Games_PS.csv', encoding='latin-1')\n",
    "df_PS_satc = pd.read_csv('SAT Counts_PS.csv', encoding='latin-1')\n",
    "df_PS_satp = pd.read_csv('SAT Percentages_PS.csv', encoding='latin-1')"
   ]
  },
  {
   "cell_type": "code",
   "execution_count": 5,
   "metadata": {},
   "outputs": [
    {
     "data": {
      "text/html": [
       "<div>\n",
       "<style scoped>\n",
       "    .dataframe tbody tr th:only-of-type {\n",
       "        vertical-align: middle;\n",
       "    }\n",
       "\n",
       "    .dataframe tbody tr th {\n",
       "        vertical-align: top;\n",
       "    }\n",
       "\n",
       "    .dataframe thead th {\n",
       "        text-align: right;\n",
       "    }\n",
       "</style>\n",
       "<table border=\"1\" class=\"dataframe\">\n",
       "  <thead>\n",
       "    <tr style=\"text-align: right;\">\n",
       "      <th></th>\n",
       "      <th>Team</th>\n",
       "      <th>Season</th>\n",
       "      <th>GP</th>\n",
       "      <th>W</th>\n",
       "      <th>L</th>\n",
       "      <th>T</th>\n",
       "      <th>OT</th>\n",
       "      <th>P</th>\n",
       "      <th>P%</th>\n",
       "      <th>RW</th>\n",
       "      <th>...</th>\n",
       "      <th>GA</th>\n",
       "      <th>GF/GP</th>\n",
       "      <th>GA/GP</th>\n",
       "      <th>PP%</th>\n",
       "      <th>PK%</th>\n",
       "      <th>Net PP%</th>\n",
       "      <th>Net PK%</th>\n",
       "      <th>Shots/GP</th>\n",
       "      <th>SA/GP</th>\n",
       "      <th>FOW%</th>\n",
       "    </tr>\n",
       "  </thead>\n",
       "  <tbody>\n",
       "    <tr>\n",
       "      <th>0</th>\n",
       "      <td>Tampa Bay Lightning</td>\n",
       "      <td>20202021</td>\n",
       "      <td>23</td>\n",
       "      <td>16</td>\n",
       "      <td>7</td>\n",
       "      <td>--</td>\n",
       "      <td>--</td>\n",
       "      <td>32.0</td>\n",
       "      <td>0.696</td>\n",
       "      <td>16</td>\n",
       "      <td>...</td>\n",
       "      <td>45.0</td>\n",
       "      <td>3.26</td>\n",
       "      <td>1.96</td>\n",
       "      <td>32.4</td>\n",
       "      <td>84.1</td>\n",
       "      <td>32.4</td>\n",
       "      <td>87.3</td>\n",
       "      <td>29.6</td>\n",
       "      <td>30.4</td>\n",
       "      <td>48.1</td>\n",
       "    </tr>\n",
       "    <tr>\n",
       "      <th>1</th>\n",
       "      <td>Montréal Canadiens</td>\n",
       "      <td>20202021</td>\n",
       "      <td>22</td>\n",
       "      <td>13</td>\n",
       "      <td>9</td>\n",
       "      <td>--</td>\n",
       "      <td>--</td>\n",
       "      <td>26.0</td>\n",
       "      <td>0.591</td>\n",
       "      <td>7</td>\n",
       "      <td>...</td>\n",
       "      <td>54.0</td>\n",
       "      <td>2.32</td>\n",
       "      <td>2.45</td>\n",
       "      <td>18.9</td>\n",
       "      <td>91.8</td>\n",
       "      <td>17.0</td>\n",
       "      <td>98.4</td>\n",
       "      <td>28.9</td>\n",
       "      <td>30.7</td>\n",
       "      <td>49.4</td>\n",
       "    </tr>\n",
       "    <tr>\n",
       "      <th>2</th>\n",
       "      <td>New York Islanders</td>\n",
       "      <td>20202021</td>\n",
       "      <td>19</td>\n",
       "      <td>11</td>\n",
       "      <td>8</td>\n",
       "      <td>--</td>\n",
       "      <td>--</td>\n",
       "      <td>22.0</td>\n",
       "      <td>0.579</td>\n",
       "      <td>7</td>\n",
       "      <td>...</td>\n",
       "      <td>53.0</td>\n",
       "      <td>2.84</td>\n",
       "      <td>2.79</td>\n",
       "      <td>20.4</td>\n",
       "      <td>65.1</td>\n",
       "      <td>16.3</td>\n",
       "      <td>65.1</td>\n",
       "      <td>28.5</td>\n",
       "      <td>35.2</td>\n",
       "      <td>51.8</td>\n",
       "    </tr>\n",
       "    <tr>\n",
       "      <th>3</th>\n",
       "      <td>Vegas Golden Knights</td>\n",
       "      <td>20202021</td>\n",
       "      <td>19</td>\n",
       "      <td>10</td>\n",
       "      <td>9</td>\n",
       "      <td>--</td>\n",
       "      <td>--</td>\n",
       "      <td>20.0</td>\n",
       "      <td>0.526</td>\n",
       "      <td>8</td>\n",
       "      <td>...</td>\n",
       "      <td>46.0</td>\n",
       "      <td>2.79</td>\n",
       "      <td>2.42</td>\n",
       "      <td>9.3</td>\n",
       "      <td>71.8</td>\n",
       "      <td>9.3</td>\n",
       "      <td>74.4</td>\n",
       "      <td>32.1</td>\n",
       "      <td>26.4</td>\n",
       "      <td>53.5</td>\n",
       "    </tr>\n",
       "    <tr>\n",
       "      <th>4</th>\n",
       "      <td>Boston Bruins</td>\n",
       "      <td>20202021</td>\n",
       "      <td>11</td>\n",
       "      <td>6</td>\n",
       "      <td>5</td>\n",
       "      <td>--</td>\n",
       "      <td>--</td>\n",
       "      <td>12.0</td>\n",
       "      <td>0.545</td>\n",
       "      <td>3</td>\n",
       "      <td>...</td>\n",
       "      <td>32.0</td>\n",
       "      <td>3.00</td>\n",
       "      <td>2.91</td>\n",
       "      <td>36.4</td>\n",
       "      <td>75.7</td>\n",
       "      <td>36.4</td>\n",
       "      <td>75.7</td>\n",
       "      <td>35.8</td>\n",
       "      <td>31.0</td>\n",
       "      <td>52.3</td>\n",
       "    </tr>\n",
       "  </tbody>\n",
       "</table>\n",
       "<p>5 rows × 23 columns</p>\n",
       "</div>"
      ],
      "text/plain": [
       "                   Team    Season  GP   W  L   T  OT     P     P%  RW  ...  \\\n",
       "0   Tampa Bay Lightning  20202021  23  16  7  --  --  32.0  0.696  16  ...   \n",
       "1    Montréal Canadiens  20202021  22  13  9  --  --  26.0  0.591   7  ...   \n",
       "2    New York Islanders  20202021  19  11  8  --  --  22.0  0.579   7  ...   \n",
       "3  Vegas Golden Knights  20202021  19  10  9  --  --  20.0  0.526   8  ...   \n",
       "4         Boston Bruins  20202021  11   6  5  --  --  12.0  0.545   3  ...   \n",
       "\n",
       "     GA  GF/GP  GA/GP   PP%   PK%  Net PP%  Net PK%  Shots/GP  SA/GP  FOW%  \n",
       "0  45.0   3.26   1.96  32.4  84.1     32.4     87.3      29.6   30.4  48.1  \n",
       "1  54.0   2.32   2.45  18.9  91.8     17.0     98.4      28.9   30.7  49.4  \n",
       "2  53.0   2.84   2.79  20.4  65.1     16.3     65.1      28.5   35.2  51.8  \n",
       "3  46.0   2.79   2.42   9.3  71.8      9.3     74.4      32.1   26.4  53.5  \n",
       "4  32.0   3.00   2.91  36.4  75.7     36.4     75.7      35.8   31.0  52.3  \n",
       "\n",
       "[5 rows x 23 columns]"
      ]
     },
     "execution_count": 5,
     "metadata": {},
     "output_type": "execute_result"
    }
   ],
   "source": [
    "#Check import sample\n",
    "df_PS_sum.head()"
   ]
  },
  {
   "cell_type": "code",
   "execution_count": 6,
   "metadata": {},
   "outputs": [],
   "source": [
    "#Create regular season dataframe\n",
    "\n",
    "#Rename column with shared name but different data\n",
    "df_RS_satp = df_RS_satp.rename({'GF':'5v5 GF', 'GA':'5v5 GA'}, axis=1)\n",
    "\n",
    "#Drop duplicate columns\n",
    "df_RS_pen = df_RS_pen.drop(['GP','W','L','T','OT','P'], axis=1)\n",
    "df_RS_satc = df_RS_satc.drop(['GP'], axis=1)\n",
    "df_RS_satp = df_RS_satp.drop(['GP','P','P%'], axis=1)\n",
    "df_RS_tgg = df_RS_tgg.drop(['GP','W','L','T','OT','P','P%'], axis=1)\n",
    "\n",
    "#Merge dataframes to create one regular season dataframe\n",
    "df = pd.merge(df_RS_sum, df_RS_pen, how='inner', on=['Team','Season'])\n",
    "df = pd.merge(df, df_RS_satc, how='inner', on=['Team','Season'])\n",
    "df = pd.merge(df, df_RS_satp, how='inner', on=['Team','Season'])\n",
    "df = pd.merge(df, df_RS_tgg, how='inner', on=['Team','Season'])\n",
    "\n",
    "#Drop irrelevant columns (Ties not applicable in seasons being studied)\n",
    "df = df.drop(['T'], axis=1)\n",
    "\n",
    "#Convert season column to string\n",
    "df['Season'] = df['Season'].apply(str)\n",
    "\n",
    "#Convert SAT for/against to rate per game\n",
    "df['SAT For/GP'] = df['SAT For'] / df['GP']\n",
    "df['SAT Agst/GP'] = df['SAT Agst'] / df['GP']"
   ]
  },
  {
   "cell_type": "code",
   "execution_count": 7,
   "metadata": {},
   "outputs": [
    {
     "data": {
      "text/html": [
       "<div>\n",
       "<style scoped>\n",
       "    .dataframe tbody tr th:only-of-type {\n",
       "        vertical-align: middle;\n",
       "    }\n",
       "\n",
       "    .dataframe tbody tr th {\n",
       "        vertical-align: top;\n",
       "    }\n",
       "\n",
       "    .dataframe thead th {\n",
       "        text-align: right;\n",
       "    }\n",
       "</style>\n",
       "<table border=\"1\" class=\"dataframe\">\n",
       "  <thead>\n",
       "    <tr style=\"text-align: right;\">\n",
       "      <th></th>\n",
       "      <th>GP</th>\n",
       "      <th>W</th>\n",
       "      <th>L</th>\n",
       "      <th>OT</th>\n",
       "      <th>P</th>\n",
       "      <th>P%</th>\n",
       "      <th>RW</th>\n",
       "      <th>ROW</th>\n",
       "      <th>S/O Win</th>\n",
       "      <th>GF</th>\n",
       "      <th>...</th>\n",
       "      <th>Win% 3 Goal Game</th>\n",
       "      <th>Wins 1 Goal Game</th>\n",
       "      <th>Wins 2 Goal Game</th>\n",
       "      <th>Wins 3 Goal Game</th>\n",
       "      <th>Loss 1 Goal Game</th>\n",
       "      <th>Loss 2 Goal Game</th>\n",
       "      <th>Loss 3 Goal Game</th>\n",
       "      <th>OT Loss 1 Goal Game</th>\n",
       "      <th>SAT For/GP</th>\n",
       "      <th>SAT Agst/GP</th>\n",
       "    </tr>\n",
       "  </thead>\n",
       "  <tbody>\n",
       "    <tr>\n",
       "      <th>count</th>\n",
       "      <td>154.000000</td>\n",
       "      <td>154.000000</td>\n",
       "      <td>154.000000</td>\n",
       "      <td>154.000000</td>\n",
       "      <td>154.000000</td>\n",
       "      <td>154.000000</td>\n",
       "      <td>154.000000</td>\n",
       "      <td>154.000000</td>\n",
       "      <td>154.000000</td>\n",
       "      <td>154.000000</td>\n",
       "      <td>...</td>\n",
       "      <td>154.000000</td>\n",
       "      <td>154.000000</td>\n",
       "      <td>154.000000</td>\n",
       "      <td>154.000000</td>\n",
       "      <td>154.000000</td>\n",
       "      <td>154.000000</td>\n",
       "      <td>154.000000</td>\n",
       "      <td>154.000000</td>\n",
       "      <td>154.000000</td>\n",
       "      <td>154.000000</td>\n",
       "    </tr>\n",
       "    <tr>\n",
       "      <th>mean</th>\n",
       "      <td>74.311688</td>\n",
       "      <td>37.155844</td>\n",
       "      <td>28.707792</td>\n",
       "      <td>8.448052</td>\n",
       "      <td>82.759740</td>\n",
       "      <td>0.556929</td>\n",
       "      <td>28.707792</td>\n",
       "      <td>34.298701</td>\n",
       "      <td>2.857143</td>\n",
       "      <td>215.642857</td>\n",
       "      <td>...</td>\n",
       "      <td>0.499370</td>\n",
       "      <td>16.012987</td>\n",
       "      <td>7.733766</td>\n",
       "      <td>13.409091</td>\n",
       "      <td>7.564935</td>\n",
       "      <td>7.733766</td>\n",
       "      <td>13.409091</td>\n",
       "      <td>8.448052</td>\n",
       "      <td>44.869488</td>\n",
       "      <td>44.867717</td>\n",
       "    </tr>\n",
       "    <tr>\n",
       "      <th>std</th>\n",
       "      <td>10.380676</td>\n",
       "      <td>8.935594</td>\n",
       "      <td>7.828994</td>\n",
       "      <td>2.906028</td>\n",
       "      <td>17.944379</td>\n",
       "      <td>0.094176</td>\n",
       "      <td>8.100613</td>\n",
       "      <td>8.792547</td>\n",
       "      <td>1.693620</td>\n",
       "      <td>38.727923</td>\n",
       "      <td>...</td>\n",
       "      <td>0.163777</td>\n",
       "      <td>4.216350</td>\n",
       "      <td>2.985898</td>\n",
       "      <td>5.188743</td>\n",
       "      <td>2.976872</td>\n",
       "      <td>3.031517</td>\n",
       "      <td>5.099806</td>\n",
       "      <td>2.906028</td>\n",
       "      <td>3.125934</td>\n",
       "      <td>3.010061</td>\n",
       "    </tr>\n",
       "    <tr>\n",
       "      <th>min</th>\n",
       "      <td>56.000000</td>\n",
       "      <td>15.000000</td>\n",
       "      <td>12.000000</td>\n",
       "      <td>2.000000</td>\n",
       "      <td>37.000000</td>\n",
       "      <td>0.275000</td>\n",
       "      <td>11.000000</td>\n",
       "      <td>11.000000</td>\n",
       "      <td>0.000000</td>\n",
       "      <td>124.000000</td>\n",
       "      <td>...</td>\n",
       "      <td>0.032000</td>\n",
       "      <td>5.000000</td>\n",
       "      <td>0.000000</td>\n",
       "      <td>1.000000</td>\n",
       "      <td>1.000000</td>\n",
       "      <td>2.000000</td>\n",
       "      <td>2.000000</td>\n",
       "      <td>2.000000</td>\n",
       "      <td>37.321429</td>\n",
       "      <td>35.053571</td>\n",
       "    </tr>\n",
       "    <tr>\n",
       "      <th>25%</th>\n",
       "      <td>69.000000</td>\n",
       "      <td>31.000000</td>\n",
       "      <td>24.000000</td>\n",
       "      <td>7.000000</td>\n",
       "      <td>72.000000</td>\n",
       "      <td>0.488000</td>\n",
       "      <td>23.000000</td>\n",
       "      <td>28.000000</td>\n",
       "      <td>2.000000</td>\n",
       "      <td>189.250000</td>\n",
       "      <td>...</td>\n",
       "      <td>0.385500</td>\n",
       "      <td>13.000000</td>\n",
       "      <td>6.000000</td>\n",
       "      <td>10.000000</td>\n",
       "      <td>5.000000</td>\n",
       "      <td>5.250000</td>\n",
       "      <td>10.000000</td>\n",
       "      <td>7.000000</td>\n",
       "      <td>42.664634</td>\n",
       "      <td>42.871951</td>\n",
       "    </tr>\n",
       "    <tr>\n",
       "      <th>50%</th>\n",
       "      <td>82.000000</td>\n",
       "      <td>37.000000</td>\n",
       "      <td>28.000000</td>\n",
       "      <td>8.000000</td>\n",
       "      <td>81.500000</td>\n",
       "      <td>0.569000</td>\n",
       "      <td>29.000000</td>\n",
       "      <td>34.000000</td>\n",
       "      <td>3.000000</td>\n",
       "      <td>221.000000</td>\n",
       "      <td>...</td>\n",
       "      <td>0.515500</td>\n",
       "      <td>16.000000</td>\n",
       "      <td>7.000000</td>\n",
       "      <td>14.000000</td>\n",
       "      <td>8.000000</td>\n",
       "      <td>8.000000</td>\n",
       "      <td>13.000000</td>\n",
       "      <td>8.000000</td>\n",
       "      <td>44.622570</td>\n",
       "      <td>45.009364</td>\n",
       "    </tr>\n",
       "    <tr>\n",
       "      <th>75%</th>\n",
       "      <td>82.000000</td>\n",
       "      <td>44.000000</td>\n",
       "      <td>34.000000</td>\n",
       "      <td>10.000000</td>\n",
       "      <td>97.750000</td>\n",
       "      <td>0.622750</td>\n",
       "      <td>35.000000</td>\n",
       "      <td>41.000000</td>\n",
       "      <td>4.000000</td>\n",
       "      <td>243.000000</td>\n",
       "      <td>...</td>\n",
       "      <td>0.618000</td>\n",
       "      <td>19.000000</td>\n",
       "      <td>10.000000</td>\n",
       "      <td>17.000000</td>\n",
       "      <td>9.000000</td>\n",
       "      <td>10.000000</td>\n",
       "      <td>16.000000</td>\n",
       "      <td>10.000000</td>\n",
       "      <td>46.908537</td>\n",
       "      <td>47.088415</td>\n",
       "    </tr>\n",
       "    <tr>\n",
       "      <th>max</th>\n",
       "      <td>82.000000</td>\n",
       "      <td>62.000000</td>\n",
       "      <td>56.000000</td>\n",
       "      <td>15.000000</td>\n",
       "      <td>128.000000</td>\n",
       "      <td>0.780000</td>\n",
       "      <td>49.000000</td>\n",
       "      <td>56.000000</td>\n",
       "      <td>9.000000</td>\n",
       "      <td>319.000000</td>\n",
       "      <td>...</td>\n",
       "      <td>0.875000</td>\n",
       "      <td>25.000000</td>\n",
       "      <td>16.000000</td>\n",
       "      <td>30.000000</td>\n",
       "      <td>15.000000</td>\n",
       "      <td>16.000000</td>\n",
       "      <td>30.000000</td>\n",
       "      <td>15.000000</td>\n",
       "      <td>53.609756</td>\n",
       "      <td>53.914634</td>\n",
       "    </tr>\n",
       "  </tbody>\n",
       "</table>\n",
       "<p>8 rows × 75 columns</p>\n",
       "</div>"
      ],
      "text/plain": [
       "               GP           W           L          OT           P          P%  \\\n",
       "count  154.000000  154.000000  154.000000  154.000000  154.000000  154.000000   \n",
       "mean    74.311688   37.155844   28.707792    8.448052   82.759740    0.556929   \n",
       "std     10.380676    8.935594    7.828994    2.906028   17.944379    0.094176   \n",
       "min     56.000000   15.000000   12.000000    2.000000   37.000000    0.275000   \n",
       "25%     69.000000   31.000000   24.000000    7.000000   72.000000    0.488000   \n",
       "50%     82.000000   37.000000   28.000000    8.000000   81.500000    0.569000   \n",
       "75%     82.000000   44.000000   34.000000   10.000000   97.750000    0.622750   \n",
       "max     82.000000   62.000000   56.000000   15.000000  128.000000    0.780000   \n",
       "\n",
       "               RW         ROW     S/O Win          GF  ...  Win% 3 Goal Game  \\\n",
       "count  154.000000  154.000000  154.000000  154.000000  ...        154.000000   \n",
       "mean    28.707792   34.298701    2.857143  215.642857  ...          0.499370   \n",
       "std      8.100613    8.792547    1.693620   38.727923  ...          0.163777   \n",
       "min     11.000000   11.000000    0.000000  124.000000  ...          0.032000   \n",
       "25%     23.000000   28.000000    2.000000  189.250000  ...          0.385500   \n",
       "50%     29.000000   34.000000    3.000000  221.000000  ...          0.515500   \n",
       "75%     35.000000   41.000000    4.000000  243.000000  ...          0.618000   \n",
       "max     49.000000   56.000000    9.000000  319.000000  ...          0.875000   \n",
       "\n",
       "       Wins 1 Goal Game  Wins 2 Goal Game  Wins 3 Goal Game  Loss 1 Goal Game  \\\n",
       "count        154.000000        154.000000        154.000000        154.000000   \n",
       "mean          16.012987          7.733766         13.409091          7.564935   \n",
       "std            4.216350          2.985898          5.188743          2.976872   \n",
       "min            5.000000          0.000000          1.000000          1.000000   \n",
       "25%           13.000000          6.000000         10.000000          5.000000   \n",
       "50%           16.000000          7.000000         14.000000          8.000000   \n",
       "75%           19.000000         10.000000         17.000000          9.000000   \n",
       "max           25.000000         16.000000         30.000000         15.000000   \n",
       "\n",
       "       Loss 2 Goal Game  Loss 3 Goal Game  OT Loss 1 Goal Game  SAT For/GP  \\\n",
       "count        154.000000        154.000000           154.000000  154.000000   \n",
       "mean           7.733766         13.409091             8.448052   44.869488   \n",
       "std            3.031517          5.099806             2.906028    3.125934   \n",
       "min            2.000000          2.000000             2.000000   37.321429   \n",
       "25%            5.250000         10.000000             7.000000   42.664634   \n",
       "50%            8.000000         13.000000             8.000000   44.622570   \n",
       "75%           10.000000         16.000000            10.000000   46.908537   \n",
       "max           16.000000         30.000000            15.000000   53.609756   \n",
       "\n",
       "       SAT Agst/GP  \n",
       "count   154.000000  \n",
       "mean     44.867717  \n",
       "std       3.010061  \n",
       "min      35.053571  \n",
       "25%      42.871951  \n",
       "50%      45.009364  \n",
       "75%      47.088415  \n",
       "max      53.914634  \n",
       "\n",
       "[8 rows x 75 columns]"
      ]
     },
     "execution_count": 7,
     "metadata": {},
     "output_type": "execute_result"
    }
   ],
   "source": [
    "#Check summary statistics for regular season dataframe\n",
    "df.describe()"
   ]
  },
  {
   "cell_type": "code",
   "execution_count": 8,
   "metadata": {},
   "outputs": [],
   "source": [
    "#Create postseason dataframe following same process as regular season\n",
    "\n",
    "df_PS_satp = df_PS_satp.rename({'GF':'5v5 GF', 'GA':'5v5 GA'}, axis=1)\n",
    "\n",
    "df_PS_pen = df_PS_pen.drop(['GP','W','L','T','OT','P'], axis=1)\n",
    "df_PS_satc = df_PS_satc.drop(['GP'], axis=1)\n",
    "df_PS_satp = df_PS_satp.drop(['GP','P','P%'], axis=1)\n",
    "df_PS_tgg = df_PS_tgg.drop(['GP','W','L','T','P','P%'], axis=1)\n",
    "\n",
    "df2 = pd.merge(df_PS_sum, df_PS_pen, how='inner', on=['Team','Season'])\n",
    "df2 = pd.merge(df2, df_PS_satc, how='inner', on=['Team','Season'])\n",
    "df2 = pd.merge(df2, df_PS_satp, how='inner', on=['Team','Season'])\n",
    "df2 = pd.merge(df2, df_PS_tgg, how='inner', on=['Team','Season'])\n",
    "\n",
    "df2 = df2.drop(['T'], axis=1)\n",
    "\n",
    "df2['Season'] = df2['Season'].apply(str)\n",
    "\n",
    "df2['SAT For/GP'] = df2['SAT For'] / df2['GP']\n",
    "df2['SAT Agst/GP'] = df2['SAT Agst'] / df2['GP']"
   ]
  },
  {
   "cell_type": "code",
   "execution_count": 9,
   "metadata": {},
   "outputs": [
    {
     "data": {
      "text/html": [
       "<div>\n",
       "<style scoped>\n",
       "    .dataframe tbody tr th:only-of-type {\n",
       "        vertical-align: middle;\n",
       "    }\n",
       "\n",
       "    .dataframe tbody tr th {\n",
       "        vertical-align: top;\n",
       "    }\n",
       "\n",
       "    .dataframe thead th {\n",
       "        text-align: right;\n",
       "    }\n",
       "</style>\n",
       "<table border=\"1\" class=\"dataframe\">\n",
       "  <thead>\n",
       "    <tr style=\"text-align: right;\">\n",
       "      <th></th>\n",
       "      <th>GP</th>\n",
       "      <th>W</th>\n",
       "      <th>L</th>\n",
       "      <th>P</th>\n",
       "      <th>P%</th>\n",
       "      <th>RW</th>\n",
       "      <th>ROW</th>\n",
       "      <th>S/O Win</th>\n",
       "      <th>GF</th>\n",
       "      <th>GA</th>\n",
       "      <th>...</th>\n",
       "      <th>5v5 S%+Sv%</th>\n",
       "      <th>Wins 2 Goal Game</th>\n",
       "      <th>Wins 3 Goal Game</th>\n",
       "      <th>Loss 1 Goal Game</th>\n",
       "      <th>Loss 2 Goal Game</th>\n",
       "      <th>Loss 3 Goal Game</th>\n",
       "      <th>OT Loss 1 Goal Game</th>\n",
       "      <th>Unnamed: 18</th>\n",
       "      <th>SAT For/GP</th>\n",
       "      <th>SAT Agst/GP</th>\n",
       "    </tr>\n",
       "  </thead>\n",
       "  <tbody>\n",
       "    <tr>\n",
       "      <th>count</th>\n",
       "      <td>88.000000</td>\n",
       "      <td>88.000000</td>\n",
       "      <td>88.000000</td>\n",
       "      <td>88.000000</td>\n",
       "      <td>88.000000</td>\n",
       "      <td>88.000000</td>\n",
       "      <td>88.000000</td>\n",
       "      <td>88.000000</td>\n",
       "      <td>88.000000</td>\n",
       "      <td>88.000000</td>\n",
       "      <td>...</td>\n",
       "      <td>88.000000</td>\n",
       "      <td>88.000000</td>\n",
       "      <td>88.000000</td>\n",
       "      <td>88.000000</td>\n",
       "      <td>88.000000</td>\n",
       "      <td>88.000000</td>\n",
       "      <td>88.000000</td>\n",
       "      <td>40.000000</td>\n",
       "      <td>88.000000</td>\n",
       "      <td>88.000000</td>\n",
       "    </tr>\n",
       "    <tr>\n",
       "      <th>mean</th>\n",
       "      <td>10.727273</td>\n",
       "      <td>5.363636</td>\n",
       "      <td>5.329545</td>\n",
       "      <td>5.117261</td>\n",
       "      <td>2.505977</td>\n",
       "      <td>4.738636</td>\n",
       "      <td>2.409091</td>\n",
       "      <td>16.272727</td>\n",
       "      <td>29.534091</td>\n",
       "      <td>14.671023</td>\n",
       "      <td>...</td>\n",
       "      <td>98.932955</td>\n",
       "      <td>1.829545</td>\n",
       "      <td>1.397727</td>\n",
       "      <td>2.136364</td>\n",
       "      <td>1.795455</td>\n",
       "      <td>1.397727</td>\n",
       "      <td>0.806818</td>\n",
       "      <td>0.075000</td>\n",
       "      <td>47.657206</td>\n",
       "      <td>47.749411</td>\n",
       "    </tr>\n",
       "    <tr>\n",
       "      <th>std</th>\n",
       "      <td>6.629310</td>\n",
       "      <td>4.849889</td>\n",
       "      <td>1.981069</td>\n",
       "      <td>8.387413</td>\n",
       "      <td>3.631763</td>\n",
       "      <td>4.450221</td>\n",
       "      <td>4.173359</td>\n",
       "      <td>21.981041</td>\n",
       "      <td>18.536047</td>\n",
       "      <td>17.144004</td>\n",
       "      <td>...</td>\n",
       "      <td>3.018781</td>\n",
       "      <td>2.354851</td>\n",
       "      <td>1.847893</td>\n",
       "      <td>1.709889</td>\n",
       "      <td>1.576837</td>\n",
       "      <td>1.255240</td>\n",
       "      <td>1.239744</td>\n",
       "      <td>0.266747</td>\n",
       "      <td>6.483257</td>\n",
       "      <td>6.219736</td>\n",
       "    </tr>\n",
       "    <tr>\n",
       "      <th>min</th>\n",
       "      <td>3.000000</td>\n",
       "      <td>0.000000</td>\n",
       "      <td>3.000000</td>\n",
       "      <td>0.000000</td>\n",
       "      <td>0.000000</td>\n",
       "      <td>0.000000</td>\n",
       "      <td>0.000000</td>\n",
       "      <td>0.000000</td>\n",
       "      <td>4.000000</td>\n",
       "      <td>0.750000</td>\n",
       "      <td>...</td>\n",
       "      <td>90.600000</td>\n",
       "      <td>0.000000</td>\n",
       "      <td>0.000000</td>\n",
       "      <td>0.000000</td>\n",
       "      <td>0.000000</td>\n",
       "      <td>0.000000</td>\n",
       "      <td>0.000000</td>\n",
       "      <td>0.000000</td>\n",
       "      <td>36.571429</td>\n",
       "      <td>36.400000</td>\n",
       "    </tr>\n",
       "    <tr>\n",
       "      <th>25%</th>\n",
       "      <td>5.750000</td>\n",
       "      <td>2.000000</td>\n",
       "      <td>4.000000</td>\n",
       "      <td>0.333000</td>\n",
       "      <td>0.333000</td>\n",
       "      <td>1.000000</td>\n",
       "      <td>0.000000</td>\n",
       "      <td>0.000000</td>\n",
       "      <td>16.000000</td>\n",
       "      <td>2.652500</td>\n",
       "      <td>...</td>\n",
       "      <td>97.150000</td>\n",
       "      <td>0.000000</td>\n",
       "      <td>0.000000</td>\n",
       "      <td>1.000000</td>\n",
       "      <td>1.000000</td>\n",
       "      <td>0.000000</td>\n",
       "      <td>0.000000</td>\n",
       "      <td>0.000000</td>\n",
       "      <td>43.221429</td>\n",
       "      <td>44.250000</td>\n",
       "    </tr>\n",
       "    <tr>\n",
       "      <th>50%</th>\n",
       "      <td>8.500000</td>\n",
       "      <td>4.000000</td>\n",
       "      <td>4.000000</td>\n",
       "      <td>0.607500</td>\n",
       "      <td>0.612500</td>\n",
       "      <td>3.000000</td>\n",
       "      <td>0.000000</td>\n",
       "      <td>7.000000</td>\n",
       "      <td>23.000000</td>\n",
       "      <td>3.355000</td>\n",
       "      <td>...</td>\n",
       "      <td>99.850000</td>\n",
       "      <td>1.000000</td>\n",
       "      <td>1.000000</td>\n",
       "      <td>2.000000</td>\n",
       "      <td>1.500000</td>\n",
       "      <td>1.000000</td>\n",
       "      <td>0.000000</td>\n",
       "      <td>0.000000</td>\n",
       "      <td>46.900219</td>\n",
       "      <td>47.431373</td>\n",
       "    </tr>\n",
       "    <tr>\n",
       "      <th>75%</th>\n",
       "      <td>15.000000</td>\n",
       "      <td>8.250000</td>\n",
       "      <td>6.250000</td>\n",
       "      <td>6.500000</td>\n",
       "      <td>3.250000</td>\n",
       "      <td>7.000000</td>\n",
       "      <td>3.250000</td>\n",
       "      <td>26.250000</td>\n",
       "      <td>42.000000</td>\n",
       "      <td>22.250000</td>\n",
       "      <td>...</td>\n",
       "      <td>101.000000</td>\n",
       "      <td>2.000000</td>\n",
       "      <td>2.000000</td>\n",
       "      <td>3.000000</td>\n",
       "      <td>3.000000</td>\n",
       "      <td>2.000000</td>\n",
       "      <td>1.250000</td>\n",
       "      <td>0.000000</td>\n",
       "      <td>51.723214</td>\n",
       "      <td>50.987500</td>\n",
       "    </tr>\n",
       "    <tr>\n",
       "      <th>max</th>\n",
       "      <td>27.000000</td>\n",
       "      <td>18.000000</td>\n",
       "      <td>12.000000</td>\n",
       "      <td>36.000000</td>\n",
       "      <td>14.000000</td>\n",
       "      <td>16.000000</td>\n",
       "      <td>17.000000</td>\n",
       "      <td>86.000000</td>\n",
       "      <td>77.000000</td>\n",
       "      <td>82.000000</td>\n",
       "      <td>...</td>\n",
       "      <td>103.800000</td>\n",
       "      <td>12.000000</td>\n",
       "      <td>9.000000</td>\n",
       "      <td>6.000000</td>\n",
       "      <td>7.000000</td>\n",
       "      <td>5.000000</td>\n",
       "      <td>5.000000</td>\n",
       "      <td>1.000000</td>\n",
       "      <td>69.500000</td>\n",
       "      <td>66.900000</td>\n",
       "    </tr>\n",
       "  </tbody>\n",
       "</table>\n",
       "<p>8 rows × 72 columns</p>\n",
       "</div>"
      ],
      "text/plain": [
       "              GP          W          L          P         P%         RW  \\\n",
       "count  88.000000  88.000000  88.000000  88.000000  88.000000  88.000000   \n",
       "mean   10.727273   5.363636   5.329545   5.117261   2.505977   4.738636   \n",
       "std     6.629310   4.849889   1.981069   8.387413   3.631763   4.450221   \n",
       "min     3.000000   0.000000   3.000000   0.000000   0.000000   0.000000   \n",
       "25%     5.750000   2.000000   4.000000   0.333000   0.333000   1.000000   \n",
       "50%     8.500000   4.000000   4.000000   0.607500   0.612500   3.000000   \n",
       "75%    15.000000   8.250000   6.250000   6.500000   3.250000   7.000000   \n",
       "max    27.000000  18.000000  12.000000  36.000000  14.000000  16.000000   \n",
       "\n",
       "             ROW    S/O Win         GF         GA  ...  5v5 S%+Sv%  \\\n",
       "count  88.000000  88.000000  88.000000  88.000000  ...   88.000000   \n",
       "mean    2.409091  16.272727  29.534091  14.671023  ...   98.932955   \n",
       "std     4.173359  21.981041  18.536047  17.144004  ...    3.018781   \n",
       "min     0.000000   0.000000   4.000000   0.750000  ...   90.600000   \n",
       "25%     0.000000   0.000000  16.000000   2.652500  ...   97.150000   \n",
       "50%     0.000000   7.000000  23.000000   3.355000  ...   99.850000   \n",
       "75%     3.250000  26.250000  42.000000  22.250000  ...  101.000000   \n",
       "max    17.000000  86.000000  77.000000  82.000000  ...  103.800000   \n",
       "\n",
       "       Wins 2 Goal Game  Wins 3 Goal Game  Loss 1 Goal Game  Loss 2 Goal Game  \\\n",
       "count         88.000000         88.000000         88.000000         88.000000   \n",
       "mean           1.829545          1.397727          2.136364          1.795455   \n",
       "std            2.354851          1.847893          1.709889          1.576837   \n",
       "min            0.000000          0.000000          0.000000          0.000000   \n",
       "25%            0.000000          0.000000          1.000000          1.000000   \n",
       "50%            1.000000          1.000000          2.000000          1.500000   \n",
       "75%            2.000000          2.000000          3.000000          3.000000   \n",
       "max           12.000000          9.000000          6.000000          7.000000   \n",
       "\n",
       "       Loss 3 Goal Game  OT Loss 1 Goal Game  Unnamed: 18  SAT For/GP  \\\n",
       "count         88.000000            88.000000    40.000000   88.000000   \n",
       "mean           1.397727             0.806818     0.075000   47.657206   \n",
       "std            1.255240             1.239744     0.266747    6.483257   \n",
       "min            0.000000             0.000000     0.000000   36.571429   \n",
       "25%            0.000000             0.000000     0.000000   43.221429   \n",
       "50%            1.000000             0.000000     0.000000   46.900219   \n",
       "75%            2.000000             1.250000     0.000000   51.723214   \n",
       "max            5.000000             5.000000     1.000000   69.500000   \n",
       "\n",
       "       SAT Agst/GP  \n",
       "count    88.000000  \n",
       "mean     47.749411  \n",
       "std       6.219736  \n",
       "min      36.400000  \n",
       "25%      44.250000  \n",
       "50%      47.431373  \n",
       "75%      50.987500  \n",
       "max      66.900000  \n",
       "\n",
       "[8 rows x 72 columns]"
      ]
     },
     "execution_count": 9,
     "metadata": {},
     "output_type": "execute_result"
    }
   ],
   "source": [
    "df2.describe()"
   ]
  },
  {
   "cell_type": "code",
   "execution_count": 10,
   "metadata": {},
   "outputs": [
    {
     "data": {
      "image/png": "[encoded data removed]",
      "text/plain": [
       "<Figure size 432x288 with 1 Axes>"
      ]
     },
     "metadata": {
      "needs_background": "light"
     },
     "output_type": "display_data"
    }
   ],
   "source": [
    "fig, ax = plt.subplots()\n",
    "\n",
    "plt.hist(df['P%'], bins=8)\n",
    "\n",
    "plt.title('Distibution of Regular Season Point Percentage\\n2016/17 - 2020/21 Seasons')\n",
    "plt.savefig('hist_RS_Ppct.png', dpi=144)"
   ]
  },
  {
   "cell_type": "code",
   "execution_count": 11,
   "metadata": {},
   "outputs": [
    {
     "data": {
      "image/png": "[encoded data removed]",
      "text/plain": [
       "<Figure size 432x288 with 1 Axes>"
      ]
     },
     "metadata": {
      "needs_background": "light"
     },
     "output_type": "display_data"
    }
   ],
   "source": [
    "fig, ax = plt.subplots()\n",
    "\n",
    "plt.hist(df2['W'], bins=8)\n",
    "\n",
    "plt.title('Distibution of Postseason Point Percentage\\n2016/17 - 2020/21 Seasons')\n",
    "plt.savefig('hist_PS_W.png', dpi=144)"
   ]
  },
  {
   "cell_type": "markdown",
   "metadata": {},
   "source": [
    "*************************************\n",
    "INITIAL DATA ASSESSMENT\n",
    "- reduce dataframes to set of variables expected to be of primary interest.  Preferentially select variables as rates or ratios from each category of statistics.\n",
    "- create heat map to check correlation between selected variables\n",
    "*************************************"
   ]
  },
  {
   "cell_type": "code",
   "execution_count": 12,
   "metadata": {},
   "outputs": [],
   "source": [
    "#Reduce regular season dataframe for initial heatmap\n",
    "df_reg = df[['W','L','OT','P%', 'RW','ROW','S/O Win','GF/GP','GA/GP','PP%','PK%','Pen Drawn/60','Pen Taken/60','SAT For','SAT Agst','SAT%','USAT %','Win% 1 Goal Game','Win% 2 Goal Game', 'Win% 3 Goal Game']]"
   ]
  },
  {
   "cell_type": "code",
   "execution_count": 13,
   "metadata": {},
   "outputs": [
    {
     "data": {
      "image/png": "[encoded data removed]",
      "text/plain": [
       "<Figure size 432x288 with 2 Axes>"
      ]
     },
     "metadata": {},
     "output_type": "display_data"
    }
   ],
   "source": [
    "#Create correlation heat map for regular season\n",
    "import matplotlib\n",
    "matplotlib.use('Agg')\n",
    "import matplotlib.pyplot as plt\n",
    "matplotlib.style.use('ggplot')\n",
    "import seaborn as sns\n",
    "corr = df_reg.corr()\n",
    "sns_plot = sns.heatmap(corr, cmap=\"Blues\", annot=False)\n",
    "\n",
    "fig = sns_plot.get_figure()\n",
    "fig.tight_layout()\n",
    "fig.savefig(\"reg_heat.png\")"
   ]
  },
  {
   "cell_type": "code",
   "execution_count": 14,
   "metadata": {},
   "outputs": [],
   "source": [
    "#Reduce postseason dataframe for initial heatmap\n",
    "df_post = df2[['W','L','OT','P%', 'RW','ROW','GF/GP','GA/GP','PP%','PK%','Pen Drawn/60','Pen Taken/60','SAT For','SAT Agst','SAT%','USAT %','Win% 1 Goal Game','Win% 2 Goal Game', 'Win% 3 Goal Game']]"
   ]
  },
  {
   "cell_type": "code",
   "execution_count": 15,
   "metadata": {},
   "outputs": [
    {
     "data": {
      "image/png": "[encoded data removed]",
      "text/plain": [
       "<Figure size 432x288 with 2 Axes>"
      ]
     },
     "metadata": {},
     "output_type": "display_data"
    }
   ],
   "source": [
    "#Create correlation heat map for postseason\n",
    "corr = df_post.corr()\n",
    "sns_plot = sns.heatmap(corr, cmap=\"Blues\", annot=False)\n",
    "\n",
    "fig = sns_plot.get_figure()\n",
    "fig.tight_layout()\n",
    "fig.savefig(\"post_heat.png\")"
   ]
  },
  {
   "cell_type": "markdown",
   "metadata": {},
   "source": [
    "************************************************************\n",
    "MODELLING: REGULAR SEASON\n",
    "Initial model:\n",
    "    - Train initial model for regular season using goal-based input variables\n",
    "    - Test multiple types of regression models to find best fit.  Considering linear regression, XGBoost regression, ridge regression\n",
    "Additional models:\n",
    "    - Add additional variables to inital model in categorical groups to test for improved models.  \n",
    "    - Additional categorical groups include shot metrics, penalties, special teams, records in close games\n",
    "    - Additional models without using goal metrics\n",
    "************************************************************"
   ]
  },
  {
   "cell_type": "code",
   "execution_count": 16,
   "metadata": {},
   "outputs": [],
   "source": [
    "#TRAIN INITIAL MODEL M0\n",
    "#Linear Regression\n",
    "#Inputs: goal based variables\n",
    "#Target: Regular season P%\n",
    "#70/30 Train/test split\n",
    "\n",
    "#Target Variable = Roint Percentage\n",
    "reg_col_name = 'P%'\n",
    "\n",
    "#Select feature variables\n",
    "feature_names = ['GF/GP','GA/GP']\n",
    "\n",
    "#Use 70/30 train/test split\n",
    "X_train, X_test, y_train, y_test = train_test_split(df.loc[:, feature_names], df[reg_col_name], test_size=0.3,random_state=2)\n",
    "\n",
    "#Train model & predict test set\n",
    "M0 = linear_model.LinearRegression()\n",
    "M0.fit(X_train,y_train)\n",
    "\n",
    "y_pred = M0.predict(X_test)"
   ]
  },
  {
   "cell_type": "code",
   "execution_count": 17,
   "metadata": {},
   "outputs": [
    {
     "name": "stdout",
     "output_type": "stream",
     "text": [
      "Mean Absolute Error: 0.019301933879415853\n",
      "Mean Squared Error: 0.0005326454997485497\n",
      "Root Mean Squared Error: 0.02307911392901707\n",
      "R-Squared: 0.9331582772976956\n",
      "Adjusted R-Squared: 0.9318728595534206\n"
     ]
    }
   ],
   "source": [
    "#Check model metrics\n",
    "print('Mean Absolute Error:', metrics.mean_absolute_error(y_test, y_pred))\n",
    "print('Mean Squared Error:', metrics.mean_squared_error(y_test, y_pred))\n",
    "print('Root Mean Squared Error:', np.sqrt(metrics.mean_squared_error(y_test, y_pred)))\n",
    "print('R-Squared:', metrics.r2_score(y_test, y_pred))\n",
    "print('Adjusted R-Squared:', 1 - (1-metrics.r2_score(y_test, y_pred))*(len(y_train)-1)/(len(y_train)-X_train.shape[1]-1))"
   ]
  },
  {
   "cell_type": "code",
   "execution_count": 18,
   "metadata": {},
   "outputs": [
    {
     "data": {
      "text/plain": [
       "-0.019066608315764132"
      ]
     },
     "execution_count": 18,
     "metadata": {},
     "output_type": "execute_result"
    }
   ],
   "source": [
    "#TRAIN INITIAL MODEL M0 with kfold cross validation\n",
    "#Linear Regression\n",
    "#Inputs: goal based variables\n",
    "#Target: Regular season P%\n",
    "#kfold cross validation\n",
    "\n",
    "X, y = df[['GF/GP', 'GA/GP']], df['P%']\n",
    "\n",
    "#Train model & predict test set\n",
    "M0k = linear_model.LinearRegression()\n",
    "#M0k.fit(X,y)\n",
    "\n",
    "#y_pred = M0k.predict(X)\n",
    "\n",
    "from sklearn.model_selection import RepeatedKFold\n",
    "\n",
    "cv = RepeatedKFold(n_splits=10, n_repeats=3, random_state=1)\n",
    "\n",
    "from sklearn.model_selection import cross_val_score\n",
    "\n",
    "scores = cross_val_score(M0k, X, y, scoring='neg_mean_absolute_error', cv=cv)\n",
    "scores.mean()"
   ]
  },
  {
   "cell_type": "code",
   "execution_count": 19,
   "metadata": {},
   "outputs": [],
   "source": [
    "#MODEL M0_XGB\n",
    "#XGBoost Regression\n",
    "#Inputs: goal based variables\n",
    "#Target: Regular season P%\n",
    "\n",
    "reg_col_name = 'P%'\n",
    "\n",
    "feature_names = ['GF/GP','GA/GP']\n",
    "\n",
    "X_train, X_test, y_train, y_test = train_test_split(df.loc[:, feature_names], df[reg_col_name], test_size=0.3,random_state=2)\n",
    "\n",
    "M0_XGB = XGBRegressor(objective ='reg:squarederror', colsample_bytree = 1.0, learning_rate = 0.1,\n",
    "                max_depth = 4, n_estimators = 100)\n",
    "\n",
    "M0_XGB.fit(X_train,y_train)\n",
    "\n",
    "y_pred = M0_XGB.predict(X_test)"
   ]
  },
  {
   "cell_type": "code",
   "execution_count": 20,
   "metadata": {},
   "outputs": [
    {
     "name": "stdout",
     "output_type": "stream",
     "text": [
      "Mean Absolute Error: 0.024832683020449716\n",
      "Mean Squared Error: 0.0010186796962558568\n",
      "Root Mean Squared Error: 0.031916761995162614\n",
      "R-Squared: 0.8721658104466374\n",
      "Adjusted R-Squared: 0.8697074606475343\n"
     ]
    }
   ],
   "source": [
    "print('Mean Absolute Error:', metrics.mean_absolute_error(y_test, y_pred))\n",
    "print('Mean Squared Error:', metrics.mean_squared_error(y_test, y_pred))\n",
    "print('Root Mean Squared Error:', np.sqrt(metrics.mean_squared_error(y_test, y_pred)))\n",
    "print('R-Squared:', metrics.r2_score(y_test, y_pred))\n",
    "print('Adjusted R-Squared:', 1 - (1-metrics.r2_score(y_test, y_pred))*(len(y_train)-1)/(len(y_train)-X_train.shape[1]-1))"
   ]
  },
  {
   "cell_type": "code",
   "execution_count": 21,
   "metadata": {},
   "outputs": [],
   "source": [
    "#MODEL M0RR\n",
    "#Ridge Regression\n",
    "#Inputs: goal based variables\n",
    "#Target: Regular season P%\n",
    "\n",
    "reg_col_name = 'P%'\n",
    "\n",
    "feature_names = ['GF/GP','GA/GP']\n",
    "\n",
    "X_train, X_test, y_train, y_test = train_test_split(df.loc[:, feature_names], df[reg_col_name], test_size=0.3,random_state=2)\n",
    "\n",
    "M0RR = Ridge(alpha=0.1)\n",
    "M0RR.fit(X_train,y_train)\n",
    "\n",
    "y_pred = M0RR.predict(X_test)"
   ]
  },
  {
   "cell_type": "code",
   "execution_count": 22,
   "metadata": {},
   "outputs": [
    {
     "name": "stdout",
     "output_type": "stream",
     "text": [
      "Mean Absolute Error: 0.019349022473394435\n",
      "Mean Squared Error: 0.0005375438606248156\n",
      "Root Mean Squared Error: 0.02318499214200461\n",
      "R-Squared: 0.93254358163324\n",
      "Adjusted R-Squared: 0.9312463428184946\n"
     ]
    }
   ],
   "source": [
    "print('Mean Absolute Error:', metrics.mean_absolute_error(y_test, y_pred))\n",
    "print('Mean Squared Error:', metrics.mean_squared_error(y_test, y_pred))\n",
    "print('Root Mean Squared Error:', np.sqrt(metrics.mean_squared_error(y_test, y_pred)))\n",
    "print('R-Squared:', metrics.r2_score(y_test, y_pred))\n",
    "print('Adjusted R-Squared:', 1 - (1-metrics.r2_score(y_test, y_pred))*(len(y_train)-1)/(len(y_train)-X_train.shape[1]-1))"
   ]
  },
  {
   "cell_type": "code",
   "execution_count": 23,
   "metadata": {},
   "outputs": [],
   "source": [
    "#Continue regular season prediction adding additional variables to goal-based model.  Linear Regression dropped due to suspected overfitting in M0."
   ]
  },
  {
   "cell_type": "code",
   "execution_count": 24,
   "metadata": {},
   "outputs": [],
   "source": [
    "#Does adding shot metric variables improve goal based model?\n",
    "#MODEL M1\n",
    "#XGBoost Regression\n",
    "#Inputs: goal based variables + shot-based metrics\n",
    "#Target: Regular season P%\n",
    "\n",
    "reg_col_name = 'P%'\n",
    "\n",
    "feature_names = ['GF/GP','GA/GP','SAT For/GP', 'SAT Agst/GP', 'SAT%']\n",
    "\n",
    "X_train, X_test, y_train, y_test = train_test_split(df.loc[:, feature_names], df[reg_col_name], test_size=0.3,random_state=2)\n",
    "\n",
    "M1 = XGBRegressor(objective ='reg:squarederror', colsample_bytree = 1.0, learning_rate = 0.1,\n",
    "                max_depth = 2, n_estimators = 100)\n",
    "M1.fit(X_train,y_train)\n",
    "\n",
    "y_pred = M1.predict(X_test)"
   ]
  },
  {
   "cell_type": "code",
   "execution_count": 25,
   "metadata": {},
   "outputs": [
    {
     "name": "stdout",
     "output_type": "stream",
     "text": [
      "Mean Absolute Error: 0.024218783079309674\n",
      "Mean Squared Error: 0.0010224722293729596\n",
      "Root Mean Squared Error: 0.03197611967348383\n",
      "R-Squared: 0.8716898851885204\n",
      "Adjusted R-Squared: 0.865337899306764\n"
     ]
    }
   ],
   "source": [
    "print('Mean Absolute Error:', metrics.mean_absolute_error(y_test, y_pred))\n",
    "print('Mean Squared Error:', metrics.mean_squared_error(y_test, y_pred))\n",
    "print('Root Mean Squared Error:', np.sqrt(metrics.mean_squared_error(y_test, y_pred)))\n",
    "print('R-Squared:', metrics.r2_score(y_test, y_pred))\n",
    "print('Adjusted R-Squared:', 1 - (1-metrics.r2_score(y_test, y_pred))*(len(y_train)-1)/(len(y_train)-X_train.shape[1]-1))"
   ]
  },
  {
   "cell_type": "code",
   "execution_count": 26,
   "metadata": {},
   "outputs": [],
   "source": [
    "#MODEL M1RR\n",
    "#Ridge Regression\n",
    "#Inputs: goal based variables + shot-based metrics\n",
    "#Target: Regular season P%\n",
    "\n",
    "reg_col_name = 'P%'\n",
    "\n",
    "feature_names = ['GF/GP','GA/GP','SAT For/GP', 'SAT Agst/GP', 'SAT%']\n",
    "\n",
    "X_train, X_test, y_train, y_test = train_test_split(df.loc[:, feature_names], df[reg_col_name], test_size=0.3,random_state=2)\n",
    "\n",
    "M1RR = Ridge(alpha=1)\n",
    "M1RR.fit(X_train,y_train)\n",
    "\n",
    "y_pred = M1RR.predict(X_test)"
   ]
  },
  {
   "cell_type": "code",
   "execution_count": 27,
   "metadata": {},
   "outputs": [
    {
     "name": "stdout",
     "output_type": "stream",
     "text": [
      "Mean Absolute Error: 0.020269714102022034\n",
      "Mean Squared Error: 0.0006176650868208685\n",
      "Root Mean Squared Error: 0.024852868784526035\n",
      "R-Squared: 0.9224891631006638\n",
      "Adjusted R-Squared: 0.9186519929571323\n"
     ]
    }
   ],
   "source": [
    "print('Mean Absolute Error:', metrics.mean_absolute_error(y_test, y_pred))\n",
    "print('Mean Squared Error:', metrics.mean_squared_error(y_test, y_pred))\n",
    "print('Root Mean Squared Error:', np.sqrt(metrics.mean_squared_error(y_test, y_pred)))\n",
    "print('R-Squared:', metrics.r2_score(y_test, y_pred))\n",
    "print('Adjusted R-Squared:', 1 - (1-metrics.r2_score(y_test, y_pred))*(len(y_train)-1)/(len(y_train)-X_train.shape[1]-1))"
   ]
  },
  {
   "cell_type": "code",
   "execution_count": 28,
   "metadata": {},
   "outputs": [],
   "source": [
    "#Can shot metrics provide predictive ability without goal based data?\n",
    "#MODEL M2\n",
    "#XGBoost Regression\n",
    "#Inputs: shot metrics\n",
    "#Target: Regular season P%\n",
    "\n",
    "reg_col_name = 'P%'\n",
    "\n",
    "feature_names = ['SAT For/GP', 'SAT Agst/GP', 'SAT%']\n",
    "\n",
    "X_train, X_test, y_train, y_test = train_test_split(df.loc[:, feature_names], df[reg_col_name], test_size=0.3,random_state=2)\n",
    "\n",
    "M2 = XGBRegressor(objective ='reg:squarederror', colsample_bytree = 1.0, learning_rate = 0.3,\n",
    "                max_depth = 5, n_estimators = 100)\n",
    "M2.fit(X_train,y_train)\n",
    "\n",
    "y_pred = M2.predict(X_test)"
   ]
  },
  {
   "cell_type": "code",
   "execution_count": 29,
   "metadata": {},
   "outputs": [
    {
     "name": "stdout",
     "output_type": "stream",
     "text": [
      "Mean Absolute Error: 0.06372146529847003\n",
      "Mean Squared Error: 0.0056991383192163516\n",
      "Root Mean Squared Error: 0.07549263751662377\n",
      "R-Squared: 0.28481471568806993\n",
      "Adjusted R-Squared: 0.26398407633917875\n"
     ]
    }
   ],
   "source": [
    "print('Mean Absolute Error:', metrics.mean_absolute_error(y_test, y_pred))\n",
    "print('Mean Squared Error:', metrics.mean_squared_error(y_test, y_pred))\n",
    "print('Root Mean Squared Error:', np.sqrt(metrics.mean_squared_error(y_test, y_pred)))\n",
    "print('R-Squared:', metrics.r2_score(y_test, y_pred))\n",
    "print('Adjusted R-Squared:', 1 - (1-metrics.r2_score(y_test, y_pred))*(len(y_train)-1)/(len(y_train)-X_train.shape[1]-1))"
   ]
  },
  {
   "cell_type": "code",
   "execution_count": 30,
   "metadata": {},
   "outputs": [],
   "source": [
    "#MODEL M2RR\n",
    "#Ridge Regression\n",
    "#Inputs: shot metrics\n",
    "#Target: Regular season P%\n",
    "\n",
    "reg_col_name = 'P%'\n",
    "\n",
    "feature_names = ['SAT For/GP', 'SAT Agst/GP', 'SAT%']\n",
    "\n",
    "X_train, X_test, y_train, y_test = train_test_split(df.loc[:, feature_names], df[reg_col_name], test_size=0.3,random_state=2)\n",
    "\n",
    "M2RR = Ridge(alpha=0.1)\n",
    "M2RR.fit(X_train,y_train)\n",
    "\n",
    "y_pred = M2RR.predict(X_test)"
   ]
  },
  {
   "cell_type": "code",
   "execution_count": 31,
   "metadata": {},
   "outputs": [
    {
     "name": "stdout",
     "output_type": "stream",
     "text": [
      "Mean Absolute Error: 0.07074727860750397\n",
      "Mean Squared Error: 0.006334153385074077\n",
      "Root Mean Squared Error: 0.0795873946368021\n",
      "R-Squared: 0.20512662865103448\n",
      "Adjusted R-Squared: 0.1819749770583462\n"
     ]
    }
   ],
   "source": [
    "print('Mean Absolute Error:', metrics.mean_absolute_error(y_test, y_pred))\n",
    "print('Mean Squared Error:', metrics.mean_squared_error(y_test, y_pred))\n",
    "print('Root Mean Squared Error:', np.sqrt(metrics.mean_squared_error(y_test, y_pred)))\n",
    "print('R-Squared:', metrics.r2_score(y_test, y_pred))\n",
    "print('Adjusted R-Squared:', 1 - (1-metrics.r2_score(y_test, y_pred))*(len(y_train)-1)/(len(y_train)-X_train.shape[1]-1))"
   ]
  },
  {
   "cell_type": "code",
   "execution_count": 32,
   "metadata": {},
   "outputs": [],
   "source": [
    "#Do S% and SV% improve shot based model?\n",
    "#MODEL M4\n",
    "#XGBoost Regression\n",
    "#Inputs: shot metrics, shooting/save percentage\n",
    "#Target: Regular season P%\n",
    "\n",
    "reg_col_name = 'P%'\n",
    "\n",
    "feature_names = ['SAT For/GP', 'SAT Agst/GP', 'SAT%', '5v5 S%', '5v5 Sv%']\n",
    "\n",
    "X_train, X_test, y_train, y_test = train_test_split(df.loc[:, feature_names], df[reg_col_name], test_size=0.3,random_state=2)\n",
    "\n",
    "M4 = XGBRegressor(objective ='reg:squarederror', colsample_bytree = 1.0, learning_rate = 0.3,\n",
    "                max_depth = 3, n_estimators = 10)\n",
    "M4.fit(X_train,y_train)\n",
    "\n",
    "y_pred = M4.predict(X_test)"
   ]
  },
  {
   "cell_type": "code",
   "execution_count": 33,
   "metadata": {},
   "outputs": [
    {
     "name": "stdout",
     "output_type": "stream",
     "text": [
      "Mean Absolute Error: 0.04410175598935877\n",
      "Mean Squared Error: 0.003107177336544678\n",
      "Root Mean Squared Error: 0.05574206074899526\n",
      "R-Squared: 0.6100800888879196\n",
      "Adjusted R-Squared: 0.590777122991282\n"
     ]
    }
   ],
   "source": [
    "print('Mean Absolute Error:', metrics.mean_absolute_error(y_test, y_pred))\n",
    "print('Mean Squared Error:', metrics.mean_squared_error(y_test, y_pred))\n",
    "print('Root Mean Squared Error:', np.sqrt(metrics.mean_squared_error(y_test, y_pred)))\n",
    "print('R-Squared:', metrics.r2_score(y_test, y_pred))\n",
    "print('Adjusted R-Squared:', 1 - (1-metrics.r2_score(y_test, y_pred))*(len(y_train)-1)/(len(y_train)-X_train.shape[1]-1))"
   ]
  },
  {
   "cell_type": "code",
   "execution_count": 34,
   "metadata": {},
   "outputs": [],
   "source": [
    "#MODEL M4RR\n",
    "#Ridge Regression\n",
    "#Inputs: shot metrics, shooting/save percentage\n",
    "#Target: Regular season P%\n",
    "\n",
    "reg_col_name = 'P%'\n",
    "\n",
    "feature_names = ['SAT For/GP', 'SAT Agst/GP', 'SAT%', '5v5 S%', '5v5 Sv%']\n",
    "\n",
    "X_train, X_test, y_train, y_test = train_test_split(df.loc[:, feature_names], df[reg_col_name], test_size=0.3,random_state=2)\n",
    "\n",
    "M4RR = Ridge(alpha=0.1)\n",
    "M4RR.fit(X_train,y_train)\n",
    "\n",
    "y_pred = M4RR.predict(X_test)"
   ]
  },
  {
   "cell_type": "code",
   "execution_count": 35,
   "metadata": {},
   "outputs": [
    {
     "name": "stdout",
     "output_type": "stream",
     "text": [
      "Mean Absolute Error: 0.03219329522690666\n",
      "Mean Squared Error: 0.0017621542671799556\n",
      "Root Mean Squared Error: 0.041978021239452865\n",
      "R-Squared: 0.7788671321899294\n",
      "Adjusted R-Squared: 0.7679199605161635\n"
     ]
    }
   ],
   "source": [
    "print('Mean Absolute Error:', metrics.mean_absolute_error(y_test, y_pred))\n",
    "print('Mean Squared Error:', metrics.mean_squared_error(y_test, y_pred))\n",
    "print('Root Mean Squared Error:', np.sqrt(metrics.mean_squared_error(y_test, y_pred)))\n",
    "print('R-Squared:', metrics.r2_score(y_test, y_pred))\n",
    "print('Adjusted R-Squared:', 1 - (1-metrics.r2_score(y_test, y_pred))*(len(y_train)-1)/(len(y_train)-X_train.shape[1]-1))"
   ]
  },
  {
   "cell_type": "code",
   "execution_count": 36,
   "metadata": {},
   "outputs": [],
   "source": [
    "#Does adding special teams performance improve previous model?\n",
    "#MODEL M5\n",
    "#XGBoost Regression\n",
    "#Inputs: shot metrics, shooting/save percentage, special teams\n",
    "#Target: Regular season P%\n",
    "\n",
    "reg_col_name = 'P%'\n",
    "\n",
    "feature_names = ['SAT For/GP', 'SAT Agst/GP', 'SAT%', '5v5 S%', '5v5 Sv%', 'PP%','PK%']\n",
    "\n",
    "X_train, X_test, y_train, y_test = train_test_split(df.loc[:, feature_names], df[reg_col_name], test_size=0.3,random_state=2)\n",
    "\n",
    "M5 = XGBRegressor(objective ='reg:squarederror', colsample_bytree = 0.5, learning_rate = 0.1,\n",
    "                max_depth = 4, n_estimators = 100)\n",
    "M5.fit(X_train,y_train)\n",
    "\n",
    "y_pred = M5.predict(X_test)"
   ]
  },
  {
   "cell_type": "code",
   "execution_count": 37,
   "metadata": {},
   "outputs": [
    {
     "name": "stdout",
     "output_type": "stream",
     "text": [
      "Mean Absolute Error: 0.037449044826182915\n",
      "Mean Squared Error: 0.002268004998376496\n",
      "Root Mean Squared Error: 0.04762357607715422\n",
      "R-Squared: 0.7153878869520387\n",
      "Adjusted R-Squared: 0.6952637981506677\n"
     ]
    }
   ],
   "source": [
    "print('Mean Absolute Error:', metrics.mean_absolute_error(y_test, y_pred))\n",
    "print('Mean Squared Error:', metrics.mean_squared_error(y_test, y_pred))\n",
    "print('Root Mean Squared Error:', np.sqrt(metrics.mean_squared_error(y_test, y_pred)))\n",
    "print('R-Squared:', metrics.r2_score(y_test, y_pred))\n",
    "print('Adjusted R-Squared:', 1 - (1-metrics.r2_score(y_test, y_pred))*(len(y_train)-1)/(len(y_train)-X_train.shape[1]-1))"
   ]
  },
  {
   "cell_type": "code",
   "execution_count": 38,
   "metadata": {},
   "outputs": [],
   "source": [
    "#MODEL M5RR\n",
    "#Ridge Regression\n",
    "#Inputs: shot metrics, shooting/save percentage, special teams\n",
    "#Target: Regular season P%\n",
    "\n",
    "reg_col_name = 'P%'\n",
    "\n",
    "feature_names = ['SAT For/GP', 'SAT Agst/GP', 'SAT%', '5v5 S%', '5v5 Sv%', 'PP%','PK%']\n",
    "\n",
    "X_train, X_test, y_train, y_test = train_test_split(df.loc[:, feature_names], df[reg_col_name], test_size=0.3,random_state=2)\n",
    "\n",
    "M5RR = Ridge(alpha=0.1)\n",
    "M5RR.fit(X_train,y_train)\n",
    "\n",
    "y_pred = M5RR.predict(X_test)"
   ]
  },
  {
   "cell_type": "code",
   "execution_count": 39,
   "metadata": {},
   "outputs": [
    {
     "name": "stdout",
     "output_type": "stream",
     "text": [
      "Mean Absolute Error: 0.02511585765061583\n",
      "Mean Squared Error: 0.0011778810039069912\n",
      "Root Mean Squared Error: 0.03432027103487079\n",
      "R-Squared: 0.8521876267111418\n",
      "Adjusted R-Squared: 0.8417362467816265\n"
     ]
    }
   ],
   "source": [
    "print('Mean Absolute Error:', metrics.mean_absolute_error(y_test, y_pred))\n",
    "print('Mean Squared Error:', metrics.mean_squared_error(y_test, y_pred))\n",
    "print('Root Mean Squared Error:', np.sqrt(metrics.mean_squared_error(y_test, y_pred)))\n",
    "print('R-Squared:', metrics.r2_score(y_test, y_pred))\n",
    "print('Adjusted R-Squared:', 1 - (1-metrics.r2_score(y_test, y_pred))*(len(y_train)-1)/(len(y_train)-X_train.shape[1]-1))"
   ]
  },
  {
   "cell_type": "code",
   "execution_count": 40,
   "metadata": {},
   "outputs": [],
   "source": [
    "#Does adding penalty rates improve the previous model?\n",
    "#MODEL M6\n",
    "#XGBoost Regression\n",
    "#Inputs: shot metrics, shooting/save percentage, special teams, penatly rates\n",
    "#Target: Regular season P%\n",
    "\n",
    "reg_col_name = 'P%'\n",
    "\n",
    "feature_names = ['SAT For/GP', 'SAT Agst/GP', 'SAT%', '5v5 S%', '5v5 Sv%', 'PP%','PK%', 'Pen Drawn/60','Pen Taken/60']\n",
    "\n",
    "X_train, X_test, y_train, y_test = train_test_split(df.loc[:, feature_names], df[reg_col_name], test_size=0.3,random_state=2)\n",
    "\n",
    "M6 = XGBRegressor(objective ='reg:squarederror', colsample_bytree = 0.5, learning_rate = 0.1,\n",
    "                max_depth = 40, n_estimators = 100)\n",
    "M6.fit(X_train,y_train)\n",
    "\n",
    "y_pred = M6.predict(X_test)"
   ]
  },
  {
   "cell_type": "code",
   "execution_count": 41,
   "metadata": {},
   "outputs": [
    {
     "name": "stdout",
     "output_type": "stream",
     "text": [
      "Mean Absolute Error: 0.04500114227355795\n",
      "Mean Squared Error: 0.0030528095528431706\n",
      "Root Mean Squared Error: 0.05525223572710131\n",
      "R-Squared: 0.6169027060391592\n",
      "Adjusted R-Squared: 0.5813575962902152\n"
     ]
    }
   ],
   "source": [
    "print('Mean Absolute Error:', metrics.mean_absolute_error(y_test, y_pred))\n",
    "print('Mean Squared Error:', metrics.mean_squared_error(y_test, y_pred))\n",
    "print('Root Mean Squared Error:', np.sqrt(metrics.mean_squared_error(y_test, y_pred)))\n",
    "print('R-Squared:', metrics.r2_score(y_test, y_pred))\n",
    "print('Adjusted R-Squared:', 1 - (1-metrics.r2_score(y_test, y_pred))*(len(y_train)-1)/(len(y_train)-X_train.shape[1]-1))"
   ]
  },
  {
   "cell_type": "code",
   "execution_count": 42,
   "metadata": {},
   "outputs": [],
   "source": [
    "#MODEL M6RR\n",
    "#Ridge Regression\n",
    "#Inputs: shot metrics, shooting/save percentage, special teams, penatly rates\n",
    "#Target: Regular season P%\n",
    "\n",
    "reg_col_name = 'P%'\n",
    "\n",
    "feature_names = ['SAT For/GP', 'SAT Agst/GP', 'SAT%', '5v5 S%', '5v5 Sv%', 'PP%','PK%', 'Pen Drawn/60','Pen Taken/60']\n",
    "\n",
    "X_train, X_test, y_train, y_test = train_test_split(df.loc[:, feature_names], df[reg_col_name], test_size=0.3,random_state=2)\n",
    "\n",
    "M6RR = Ridge(alpha=0.1)\n",
    "M6RR.fit(X_train,y_train)\n",
    "\n",
    "y_pred = M6RR.predict(X_test)"
   ]
  },
  {
   "cell_type": "code",
   "execution_count": 43,
   "metadata": {},
   "outputs": [
    {
     "name": "stdout",
     "output_type": "stream",
     "text": [
      "Mean Absolute Error: 0.025264003393739975\n",
      "Mean Squared Error: 0.0011659666653443162\n",
      "Root Mean Squared Error: 0.03414625404556576\n",
      "R-Squared: 0.8536827579283653\n",
      "Adjusted R-Squared: 0.8401069313443992\n"
     ]
    }
   ],
   "source": [
    "print('Mean Absolute Error:', metrics.mean_absolute_error(y_test, y_pred))\n",
    "print('Mean Squared Error:', metrics.mean_squared_error(y_test, y_pred))\n",
    "print('Root Mean Squared Error:', np.sqrt(metrics.mean_squared_error(y_test, y_pred)))\n",
    "print('R-Squared:', metrics.r2_score(y_test, y_pred))\n",
    "print('Adjusted R-Squared:', 1 - (1-metrics.r2_score(y_test, y_pred))*(len(y_train)-1)/(len(y_train)-X_train.shape[1]-1))"
   ]
  },
  {
   "cell_type": "code",
   "execution_count": 44,
   "metadata": {},
   "outputs": [
    {
     "data": {
      "text/plain": [
       "-0.02964831601405144"
      ]
     },
     "execution_count": 44,
     "metadata": {},
     "output_type": "execute_result"
    }
   ],
   "source": [
    "#Does kfold cross validation help model M5RR?\n",
    "#MODEL M5RR\n",
    "#Ridge Regression\n",
    "#Inputs: shot metrics, shooting/save percentage, special teams\n",
    "#Target: Regular season P%\n",
    "\n",
    "X, y = df[['SAT For/GP', 'SAT Agst/GP', 'SAT%', '5v5 S%', '5v5 Sv%', 'PP%','PK%']], df['P%']\n",
    "\n",
    "#Train model & predict test set\n",
    "M5RRk = Ridge(alpha=0.1)\n",
    "#M0k.fit(X,y)\n",
    "\n",
    "#y_pred = M0k.predict(X)\n",
    "\n",
    "from sklearn.model_selection import RepeatedKFold\n",
    "\n",
    "cv = RepeatedKFold(n_splits=10, n_repeats=3, random_state=1)\n",
    "\n",
    "from sklearn.model_selection import cross_val_score\n",
    "\n",
    "scores = cross_val_score(M5RRk, X, y, scoring='neg_mean_absolute_error', cv=cv)\n",
    "scores.mean()"
   ]
  },
  {
   "cell_type": "markdown",
   "metadata": {},
   "source": [
    "***************************************************\n",
    "POSTSEASON MODELS\n",
    "    - Model postseason, using wins as target variable.\n",
    "    - Use input variables matching regular season models:  initial base model and other most successful regular season models\n",
    "    - Results to be compared with regular season models to assess impact of small postseason sample sizes\n",
    "***************************************************"
   ]
  },
  {
   "cell_type": "code",
   "execution_count": 45,
   "metadata": {},
   "outputs": [],
   "source": [
    "#Can the inputs for the most successful regular season model M5 provide similar results on postseason data?  Use W instead of P% for target variable for postseason.\n",
    "#MODEL P5\n",
    "#XGBoost Regression\n",
    "#Inputs: shot metrics, shooting/save percentage, special teams, penatly rates\n",
    "#Target: Postseason W\n",
    "\n",
    "reg_col_name = 'W'\n",
    "\n",
    "feature_names = ['SAT For/GP', 'SAT Agst/GP', 'SAT%', '5v5 S%', '5v5 Sv%', 'PP%','PK%']\n",
    "\n",
    "X_train, X_test, y_train, y_test = train_test_split(df2.loc[:, feature_names], df2[reg_col_name], test_size=0.3,random_state=2)\n",
    "\n",
    "P5 = XGBRegressor(objective ='reg:squarederror', colsample_bytree = 1.0, learning_rate = 0.1,\n",
    "                max_depth = 4, n_estimators = 100)\n",
    "P5.fit(X_train,y_train)\n",
    "\n",
    "y_pred = P5.predict(X_test)"
   ]
  },
  {
   "cell_type": "code",
   "execution_count": 46,
   "metadata": {},
   "outputs": [
    {
     "name": "stdout",
     "output_type": "stream",
     "text": [
      "Mean Absolute Error: 2.841516375541687\n",
      "Mean Squared Error: 15.753672860832477\n",
      "Root Mean Squared Error: 3.9690896765924144\n",
      "R-Squared: 0.272492872447303\n",
      "Adjusted R-Squared: 0.17640702541204112\n"
     ]
    }
   ],
   "source": [
    "print('Mean Absolute Error:', metrics.mean_absolute_error(y_test, y_pred))\n",
    "print('Mean Squared Error:', metrics.mean_squared_error(y_test, y_pred))\n",
    "print('Root Mean Squared Error:', np.sqrt(metrics.mean_squared_error(y_test, y_pred)))\n",
    "print('R-Squared:', metrics.r2_score(y_test, y_pred))\n",
    "print('Adjusted R-Squared:', 1 - (1-metrics.r2_score(y_test, y_pred))*(len(y_train)-1)/(len(y_train)-X_train.shape[1]-1))"
   ]
  },
  {
   "cell_type": "code",
   "execution_count": 47,
   "metadata": {},
   "outputs": [],
   "source": [
    "#MODEL P5RR\n",
    "#Ridge Regression\n",
    "#Inputs: shot metrics, shooting/save percentage, special teams, penatly rates\n",
    "#Target: Postseason W\n",
    "\n",
    "reg_col_name = 'W'\n",
    "\n",
    "feature_names = ['SAT For/GP', 'SAT Agst/GP', 'SAT%', '5v5 S%', '5v5 Sv%', 'PP%','PK%']\n",
    "\n",
    "X_train, X_test, y_train, y_test = train_test_split(df2.loc[:, feature_names], df2[reg_col_name], test_size=0.3,random_state=2)\n",
    "\n",
    "P5RR = Ridge(alpha=0.1)\n",
    "P5RR.fit(X_train,y_train)\n",
    "\n",
    "y_pred = P5RR.predict(X_test)"
   ]
  },
  {
   "cell_type": "code",
   "execution_count": 48,
   "metadata": {},
   "outputs": [
    {
     "name": "stdout",
     "output_type": "stream",
     "text": [
      "Mean Absolute Error: 2.8316068910219565\n",
      "Mean Squared Error: 12.136678677422992\n",
      "Root Mean Squared Error: 3.4837736260301115\n",
      "R-Squared: 0.43952624123645256\n",
      "Adjusted R-Squared: 0.3655014051733426\n"
     ]
    }
   ],
   "source": [
    "print('Mean Absolute Error:', metrics.mean_absolute_error(y_test, y_pred))\n",
    "print('Mean Squared Error:', metrics.mean_squared_error(y_test, y_pred))\n",
    "print('Root Mean Squared Error:', np.sqrt(metrics.mean_squared_error(y_test, y_pred)))\n",
    "print('R-Squared:', metrics.r2_score(y_test, y_pred))\n",
    "print('Adjusted R-Squared:', 1 - (1-metrics.r2_score(y_test, y_pred))*(len(y_train)-1)/(len(y_train)-X_train.shape[1]-1))"
   ]
  },
  {
   "cell_type": "code",
   "execution_count": 49,
   "metadata": {},
   "outputs": [],
   "source": [
    "#Does goal based model have similar reduction in results?\n",
    "#MODEL P0\n",
    "#XGBoost Regression\n",
    "#Inputs: shot metrics, shooting/save percentage, special teams, penatly rates\n",
    "#Target: Postseason W\n",
    "\n",
    "reg_col_name = 'W'\n",
    "\n",
    "feature_names = ['GF/GP', 'GA/GP']\n",
    "\n",
    "X_train, X_test, y_train, y_test = train_test_split(df2.loc[:, feature_names], df2[reg_col_name], test_size=0.3,random_state=2)\n",
    "\n",
    "P0 = XGBRegressor(objective ='reg:squarederror', colsample_bytree = 1.0, learning_rate = 0.1,\n",
    "                max_depth = 4, n_estimators = 100)\n",
    "P0.fit(X_train,y_train)\n",
    "\n",
    "y_pred = P0.predict(X_test)"
   ]
  },
  {
   "cell_type": "code",
   "execution_count": 50,
   "metadata": {},
   "outputs": [
    {
     "name": "stdout",
     "output_type": "stream",
     "text": [
      "Mean Absolute Error: 3.720087496218858\n",
      "Mean Squared Error: 20.83882289016658\n",
      "Root Mean Squared Error: 4.564955957089463\n",
      "R-Squared: 0.03765983232412051\n",
      "Adjusted R-Squared: 0.004475688611159212\n"
     ]
    }
   ],
   "source": [
    "print('Mean Absolute Error:', metrics.mean_absolute_error(y_test, y_pred))\n",
    "print('Mean Squared Error:', metrics.mean_squared_error(y_test, y_pred))\n",
    "print('Root Mean Squared Error:', np.sqrt(metrics.mean_squared_error(y_test, y_pred)))\n",
    "print('R-Squared:', metrics.r2_score(y_test, y_pred))\n",
    "print('Adjusted R-Squared:', 1 - (1-metrics.r2_score(y_test, y_pred))*(len(y_train)-1)/(len(y_train)-X_train.shape[1]-1))"
   ]
  },
  {
   "cell_type": "code",
   "execution_count": 51,
   "metadata": {},
   "outputs": [],
   "source": [
    "#MODEL P0RR\n",
    "#Ridge Regression\n",
    "#Inputs: shot metrics, shooting/save percentage, special teams, penatly rates\n",
    "#Target: Postseason W\n",
    "\n",
    "reg_col_name = 'W'\n",
    "\n",
    "feature_names = ['GF/GP', 'GA/GP']\n",
    "\n",
    "X_train, X_test, y_train, y_test = train_test_split(df2.loc[:, feature_names], df2[reg_col_name], test_size=0.3,random_state=2)\n",
    "\n",
    "P0RR = Ridge(alpha=0.5)\n",
    "P0RR.fit(X_train,y_train)\n",
    "\n",
    "y_pred = P0RR.predict(X_test)"
   ]
  },
  {
   "cell_type": "code",
   "execution_count": 52,
   "metadata": {},
   "outputs": [
    {
     "name": "stdout",
     "output_type": "stream",
     "text": [
      "Mean Absolute Error: 3.76161208247753\n",
      "Mean Squared Error: 23.979697311732068\n",
      "Root Mean Squared Error: 4.896906912708477\n",
      "R-Squared: -0.10738624985763812\n",
      "Adjusted R-Squared: -0.14557198261134996\n"
     ]
    }
   ],
   "source": [
    "print('Mean Absolute Error:', metrics.mean_absolute_error(y_test, y_pred))\n",
    "print('Mean Squared Error:', metrics.mean_squared_error(y_test, y_pred))\n",
    "print('Root Mean Squared Error:', np.sqrt(metrics.mean_squared_error(y_test, y_pred)))\n",
    "print('R-Squared:', metrics.r2_score(y_test, y_pred))\n",
    "print('Adjusted R-Squared:', 1 - (1-metrics.r2_score(y_test, y_pred))*(len(y_train)-1)/(len(y_train)-X_train.shape[1]-1))"
   ]
  },
  {
   "cell_type": "markdown",
   "metadata": {},
   "source": [
    "**************************************************\n",
    "PREDICT POSTSEASON SUCCESS USING REGULAR SEASON INPUT VARIABLES\n",
    "    - Use regular season input variables to predict postseason success.  Chose variables based on results of previous models.\n",
    "**************************************************"
   ]
  },
  {
   "cell_type": "code",
   "execution_count": 53,
   "metadata": {},
   "outputs": [],
   "source": [
    "#Use regular season statistics for input variables\n",
    "RS = df[['Team', 'Season', 'RW', 'P', 'GF/GP', 'GA/GP','Win% 1 Goal Game', 'Win% 2 Goal Game', 'Win% 3 Goal Game', 'SAT For/GP', 'SAT Agst/GP', 'SAT%', '5v5 S%', '5v5 Sv%', 'PP%','PK%', 'Pen Drawn/60','Pen Taken/60']]\n",
    "\n",
    "#Use postseason W as target variable\n",
    "PS = df2[['Team', 'Season', 'P%', 'W']]\n",
    "\n",
    "#Create new dataframe\n",
    "df3 = pd.merge(RS, PS, on=['Team','Season'])"
   ]
  },
  {
   "cell_type": "code",
   "execution_count": 54,
   "metadata": {},
   "outputs": [],
   "source": [
    "#Can regular season inputs be used to predict postseason W?\n",
    "#MODEL RP5\n",
    "#XGBoost Regression\n",
    "#Inputs: shot metrics, shooting/save percentage, special teams, penatly rates\n",
    "#Target: Postseason W\n",
    "\n",
    "reg_col_name = 'W'\n",
    "\n",
    "feature_names = ['SAT For/GP', 'SAT Agst/GP', 'SAT%', '5v5 S%', '5v5 Sv%', 'PP%','PK%']\n",
    "\n",
    "X_train, X_test, y_train, y_test = train_test_split(df3.loc[:, feature_names], df3[reg_col_name], test_size=0.3,random_state=2)\n",
    "\n",
    "RP5 = XGBRegressor(objective ='reg:squarederror', colsample_bytree = 0.5, learning_rate = 0.1,\n",
    "                max_depth = 2, n_estimators = 100)\n",
    "RP5.fit(X_train,y_train)\n",
    "\n",
    "y_pred = RP5.predict(X_test)"
   ]
  },
  {
   "cell_type": "code",
   "execution_count": 55,
   "metadata": {},
   "outputs": [
    {
     "name": "stdout",
     "output_type": "stream",
     "text": [
      "Mean Absolute Error: 5.222498823095251\n",
      "Mean Squared Error: 42.04227377577858\n",
      "Root Mean Squared Error: 6.484001370741572\n",
      "R-Squared: -0.5449550147465765\n",
      "Adjusted R-Squared: -0.749005677071596\n"
     ]
    }
   ],
   "source": [
    "print('Mean Absolute Error:', metrics.mean_absolute_error(y_test, y_pred))\n",
    "print('Mean Squared Error:', metrics.mean_squared_error(y_test, y_pred))\n",
    "print('Root Mean Squared Error:', np.sqrt(metrics.mean_squared_error(y_test, y_pred)))\n",
    "print('R-Squared:', metrics.r2_score(y_test, y_pred))\n",
    "print('Adjusted R-Squared:', 1 - (1-metrics.r2_score(y_test, y_pred))*(len(y_train)-1)/(len(y_train)-X_train.shape[1]-1))"
   ]
  },
  {
   "cell_type": "code",
   "execution_count": 56,
   "metadata": {},
   "outputs": [],
   "source": [
    "#MODEL RP5RR\n",
    "#Ridge Regression\n",
    "#Inputs: shot metrics, shooting/save percentage, special teams, penatly rates\n",
    "#Target: Postseason W\n",
    "\n",
    "reg_col_name = 'W'\n",
    "\n",
    "feature_names = ['SAT For/GP', 'SAT Agst/GP', 'SAT%', '5v5 S%', '5v5 Sv%', 'PP%','PK%']\n",
    "\n",
    "X_train, X_test, y_train, y_test = train_test_split(df3.loc[:, feature_names], df3[reg_col_name], test_size=0.3,random_state=2)\n",
    "\n",
    "RP5RR = Ridge(alpha=0.1)\n",
    "RP5RR.fit(X_train,y_train)\n",
    "\n",
    "y_pred = RP5RR.predict(X_test)"
   ]
  },
  {
   "cell_type": "code",
   "execution_count": 57,
   "metadata": {},
   "outputs": [
    {
     "name": "stdout",
     "output_type": "stream",
     "text": [
      "Mean Absolute Error: 5.132641301308711\n",
      "Mean Squared Error: 39.62557528535863\n",
      "Root Mean Squared Error: 6.294884850841883\n",
      "R-Squared: -0.45614700993176927\n",
      "Adjusted R-Squared: -0.6484683131303048\n"
     ]
    }
   ],
   "source": [
    "print('Mean Absolute Error:', metrics.mean_absolute_error(y_test, y_pred))\n",
    "print('Mean Squared Error:', metrics.mean_squared_error(y_test, y_pred))\n",
    "print('Root Mean Squared Error:', np.sqrt(metrics.mean_squared_error(y_test, y_pred)))\n",
    "print('R-Squared:', metrics.r2_score(y_test, y_pred))\n",
    "print('Adjusted R-Squared:', 1 - (1-metrics.r2_score(y_test, y_pred))*(len(y_train)-1)/(len(y_train)-X_train.shape[1]-1))"
   ]
  },
  {
   "cell_type": "code",
   "execution_count": 58,
   "metadata": {},
   "outputs": [],
   "source": [
    "#MODEL RP0\n",
    "#XGBoost Regression\n",
    "#Inputs: goal rates\n",
    "#Target: Postseason W\n",
    "\n",
    "reg_col_name = 'W'\n",
    "\n",
    "feature_names = ['GF/GP', 'GA/GP']\n",
    "\n",
    "X_train, X_test, y_train, y_test = train_test_split(df3.loc[:, feature_names], df3[reg_col_name], test_size=0.3,random_state=2)\n",
    "\n",
    "RP0 = XGBRegressor(objective ='reg:squarederror', colsample_bytree = 0.5, learning_rate = 0.1,\n",
    "                max_depth = 10, n_estimators = 100)\n",
    "RP0.fit(X_train,y_train)\n",
    "\n",
    "y_pred = RP0.predict(X_test)"
   ]
  },
  {
   "cell_type": "code",
   "execution_count": 59,
   "metadata": {},
   "outputs": [
    {
     "name": "stdout",
     "output_type": "stream",
     "text": [
      "Mean Absolute Error: 5.422038421862656\n",
      "Mean Squared Error: 48.07547664870346\n",
      "Root Mean Squared Error: 6.933648148608599\n",
      "R-Squared: -0.7666610785817534\n",
      "Adjusted R-Squared: -0.8275804261190554\n"
     ]
    }
   ],
   "source": [
    "print('Mean Absolute Error:', metrics.mean_absolute_error(y_test, y_pred))\n",
    "print('Mean Squared Error:', metrics.mean_squared_error(y_test, y_pred))\n",
    "print('Root Mean Squared Error:', np.sqrt(metrics.mean_squared_error(y_test, y_pred)))\n",
    "print('R-Squared:', metrics.r2_score(y_test, y_pred))\n",
    "print('Adjusted R-Squared:', 1 - (1-metrics.r2_score(y_test, y_pred))*(len(y_train)-1)/(len(y_train)-X_train.shape[1]-1))"
   ]
  },
  {
   "cell_type": "code",
   "execution_count": 60,
   "metadata": {},
   "outputs": [],
   "source": [
    "#MODEL RP0RR\n",
    "#Ridge Regression\n",
    "#Inputs: goal rates\n",
    "#Target: Postseason W\n",
    "\n",
    "reg_col_name = 'W'\n",
    "\n",
    "feature_names = ['GF/GP', 'GA/GP']\n",
    "\n",
    "X_train, X_test, y_train, y_test = train_test_split(df3.loc[:, feature_names], df3[reg_col_name], test_size=0.3,random_state=2)\n",
    "\n",
    "RP0 = Ridge(alpha=0.1)\n",
    "RP0.fit(X_train,y_train)\n",
    "\n",
    "y_pred = RP0.predict(X_test)"
   ]
  },
  {
   "cell_type": "code",
   "execution_count": 61,
   "metadata": {},
   "outputs": [
    {
     "name": "stdout",
     "output_type": "stream",
     "text": [
      "Mean Absolute Error: 4.693376720415959\n",
      "Mean Squared Error: 35.838794498087864\n",
      "Root Mean Squared Error: 5.986551135510985\n",
      "R-Squared: -0.3169916921618132\n",
      "Adjusted R-Squared: -0.3624051987880825\n"
     ]
    }
   ],
   "source": [
    "print('Mean Absolute Error:', metrics.mean_absolute_error(y_test, y_pred))\n",
    "print('Mean Squared Error:', metrics.mean_squared_error(y_test, y_pred))\n",
    "print('Root Mean Squared Error:', np.sqrt(metrics.mean_squared_error(y_test, y_pred)))\n",
    "print('R-Squared:', metrics.r2_score(y_test, y_pred))\n",
    "print('Adjusted R-Squared:', 1 - (1-metrics.r2_score(y_test, y_pred))*(len(y_train)-1)/(len(y_train)-X_train.shape[1]-1))"
   ]
  },
  {
   "cell_type": "markdown",
   "metadata": {},
   "source": [
    "*************************************************\n",
    "CHECK REGULAR SEASON TO POSTSEASON CORRELATIONS\n",
    "- check correlation of each variable used as input variable to previous model between regular season and postseason.\n",
    "- higher correlation may suggest higher predictive power in postseason prediction models.\n",
    "*************************************************"
   ]
  },
  {
   "cell_type": "code",
   "execution_count": 62,
   "metadata": {},
   "outputs": [
    {
     "name": "stdout",
     "output_type": "stream",
     "text": [
      "Pearsons correlation (SAT For/GP): 0.261\n",
      "Pearsons correlation (SAT Agst/GP): 0.254\n",
      "Pearsons correlation (SAT%): 0.466\n",
      "Pearsons correlation (5v5 S%): -0.080\n",
      "Pearsons correlation (5v5 Sv%): 0.043\n",
      "Pearsons correlation (PP%): -0.063\n",
      "Pearsons correlation (PK%): -0.106\n",
      "Pearsons correlation (Pen Drawn/60): 0.393\n",
      "Pearsons correlation (Pen Taken/60): -0.125\n"
     ]
    }
   ],
   "source": [
    "#Check correlation between key variables: regular season vs postseason\n",
    "\n",
    "#Combine data\n",
    "reg_shot = df[['Team', 'Season', 'SAT For/GP', 'SAT Agst/GP', 'SAT%', '5v5 S%', '5v5 Sv%', 'PP%','PK%', 'Pen Drawn/60','Pen Taken/60']]\n",
    "post_shot = df2[['Team', 'Season', 'SAT For/GP', 'SAT Agst/GP', 'SAT%', '5v5 S%', '5v5 Sv%', 'PP%','PK%', 'Pen Drawn/60','Pen Taken/60']]\n",
    "post_shot = post_shot.rename(columns={'SAT For/GP':'SAT For/GP P', 'SAT Agst/GP':'SAT Agst/GP P', 'SAT%':'SAT% P', '5v5 S%':'5v5 S% P', '5v5 Sv%':'5v5 Sv% P', 'PP%':'PP% P','PK%':'PK% P', 'Pen Drawn/60':'Pen Drawn/60 P','Pen Taken/60':'Pen Taken/60 P'})\n",
    "compare = pd.merge(reg_shot, post_shot, on=['Team', 'Season'])\n",
    "\n",
    "#Check correlations\n",
    "from scipy.stats import pearsonr\n",
    "stats = ['SAT For/GP', 'SAT Agst/GP', 'SAT%', '5v5 S%', '5v5 Sv%', 'PP%','PK%', 'Pen Drawn/60','Pen Taken/60']\n",
    "\n",
    "for i in stats:\n",
    "    list1 = compare[i]\n",
    "    list2 = compare[i + ' P']\n",
    "    \n",
    "    corr, _ = pearsonr(list1, list2)\n",
    "    print('Pearsons correlation (' + i +'): %.3f' % corr)"
   ]
  },
  {
   "cell_type": "code",
   "execution_count": 63,
   "metadata": {},
   "outputs": [],
   "source": [
    "#Does model improve by removing variables with poor regular season to postseason correlation?\n",
    "#MODEL RP5RR_simple\n",
    "#Ridge Regression\n",
    "#Inputs: shot metrics, shooting/save percentage, special teams, penatly rates\n",
    "#Target: Postseason W\n",
    "\n",
    "reg_col_name = 'W'\n",
    "\n",
    "feature_names = ['SAT%']\n",
    "\n",
    "X_train, X_test, y_train, y_test = train_test_split(df3.loc[:, feature_names], df3[reg_col_name], test_size=0.3,random_state=2)\n",
    "\n",
    "RP5RR_simple = Ridge(alpha=0.1)\n",
    "RP5RR_simple.fit(X_train,y_train)\n",
    "\n",
    "y_pred = RP5RR_simple.predict(X_test)"
   ]
  },
  {
   "cell_type": "code",
   "execution_count": 64,
   "metadata": {},
   "outputs": [
    {
     "name": "stdout",
     "output_type": "stream",
     "text": [
      "Mean Absolute Error: 4.992943710259225\n",
      "Mean Squared Error: 38.76544416640514\n",
      "Root Mean Squared Error: 6.226190180712853\n",
      "R-Squared: -0.4245392074457781\n",
      "Adjusted R-Squared: -0.44868393977536747\n"
     ]
    }
   ],
   "source": [
    "print('Mean Absolute Error:', metrics.mean_absolute_error(y_test, y_pred))\n",
    "print('Mean Squared Error:', metrics.mean_squared_error(y_test, y_pred))\n",
    "print('Root Mean Squared Error:', np.sqrt(metrics.mean_squared_error(y_test, y_pred)))\n",
    "print('R-Squared:', metrics.r2_score(y_test, y_pred))\n",
    "print('Adjusted R-Squared:', 1 - (1-metrics.r2_score(y_test, y_pred))*(len(y_train)-1)/(len(y_train)-X_train.shape[1]-1))"
   ]
  },
  {
   "cell_type": "code",
   "execution_count": 65,
   "metadata": {},
   "outputs": [],
   "source": [
    "#MODEL RP5RR_simple\n",
    "#Ridge Regression\n",
    "#Inputs: shot metrics, shooting/save percentage, special teams, penatly rates\n",
    "#Target: Postseason W\n",
    "\n",
    "reg_col_name = 'W'\n",
    "\n",
    "feature_names = ['SAT%']\n",
    "\n",
    "X_train, X_test, y_train, y_test = train_test_split(df3.loc[:, feature_names], df3[reg_col_name], test_size=0.3,random_state=2)\n",
    "\n",
    "RP_simple = XGBRegressor(objective ='reg:squarederror', colsample_bytree = 0.5, learning_rate = 0.1,\n",
    "                max_depth = 10, n_estimators = 100)\n",
    "RP_simple.fit(X_train,y_train)\n",
    "\n",
    "y_pred = RP_simple.predict(X_test)"
   ]
  },
  {
   "cell_type": "code",
   "execution_count": 66,
   "metadata": {},
   "outputs": [
    {
     "name": "stdout",
     "output_type": "stream",
     "text": [
      "Mean Absolute Error: 6.059022011718264\n",
      "Mean Squared Error: 56.448535744619136\n",
      "Root Mean Squared Error: 7.513224057927404\n",
      "R-Squared: -1.074351374020937\n",
      "Adjusted R-Squared: -1.1095098718856988\n"
     ]
    }
   ],
   "source": [
    "print('Mean Absolute Error:', metrics.mean_absolute_error(y_test, y_pred))\n",
    "print('Mean Squared Error:', metrics.mean_squared_error(y_test, y_pred))\n",
    "print('Root Mean Squared Error:', np.sqrt(metrics.mean_squared_error(y_test, y_pred)))\n",
    "print('R-Squared:', metrics.r2_score(y_test, y_pred))\n",
    "print('Adjusted R-Squared:', 1 - (1-metrics.r2_score(y_test, y_pred))*(len(y_train)-1)/(len(y_train)-X_train.shape[1]-1))"
   ]
  },
  {
   "cell_type": "markdown",
   "metadata": {},
   "source": [
    "**************************************************\n",
    "CHECK SENSITIVITY: COVID AFFECTED SEASONS\n",
    "- remove Covid-19 affected seasons from dataset (2019-2020, 2020/2021)\n",
    "- re-train best model and compare to previous result with full dataset to assess whether Covid affected seasons have different driving forces\n",
    "**************************************************"
   ]
  },
  {
   "cell_type": "code",
   "execution_count": 67,
   "metadata": {},
   "outputs": [
    {
     "data": {
      "text/html": [
       "<div>\n",
       "<style scoped>\n",
       "    .dataframe tbody tr th:only-of-type {\n",
       "        vertical-align: middle;\n",
       "    }\n",
       "\n",
       "    .dataframe tbody tr th {\n",
       "        vertical-align: top;\n",
       "    }\n",
       "\n",
       "    .dataframe thead th {\n",
       "        text-align: right;\n",
       "    }\n",
       "</style>\n",
       "<table border=\"1\" class=\"dataframe\">\n",
       "  <thead>\n",
       "    <tr style=\"text-align: right;\">\n",
       "      <th></th>\n",
       "      <th>Team</th>\n",
       "      <th>Season</th>\n",
       "      <th>GP</th>\n",
       "      <th>W</th>\n",
       "      <th>L</th>\n",
       "      <th>OT</th>\n",
       "      <th>P</th>\n",
       "      <th>P%</th>\n",
       "      <th>RW</th>\n",
       "      <th>ROW</th>\n",
       "      <th>...</th>\n",
       "      <th>Win% 3 Goal Game</th>\n",
       "      <th>Wins 1 Goal Game</th>\n",
       "      <th>Wins 2 Goal Game</th>\n",
       "      <th>Wins 3 Goal Game</th>\n",
       "      <th>Loss 1 Goal Game</th>\n",
       "      <th>Loss 2 Goal Game</th>\n",
       "      <th>Loss 3 Goal Game</th>\n",
       "      <th>OT Loss 1 Goal Game</th>\n",
       "      <th>SAT For/GP</th>\n",
       "      <th>SAT Agst/GP</th>\n",
       "    </tr>\n",
       "  </thead>\n",
       "  <tbody>\n",
       "    <tr>\n",
       "      <th>62</th>\n",
       "      <td>Tampa Bay Lightning</td>\n",
       "      <td>20182019</td>\n",
       "      <td>82</td>\n",
       "      <td>62</td>\n",
       "      <td>16</td>\n",
       "      <td>4</td>\n",
       "      <td>128</td>\n",
       "      <td>0.780</td>\n",
       "      <td>49</td>\n",
       "      <td>56</td>\n",
       "      <td>...</td>\n",
       "      <td>0.789</td>\n",
       "      <td>24</td>\n",
       "      <td>8</td>\n",
       "      <td>30</td>\n",
       "      <td>3</td>\n",
       "      <td>5</td>\n",
       "      <td>8</td>\n",
       "      <td>4</td>\n",
       "      <td>46.658537</td>\n",
       "      <td>43.780488</td>\n",
       "    </tr>\n",
       "    <tr>\n",
       "      <th>63</th>\n",
       "      <td>Calgary Flames</td>\n",
       "      <td>20182019</td>\n",
       "      <td>82</td>\n",
       "      <td>50</td>\n",
       "      <td>25</td>\n",
       "      <td>7</td>\n",
       "      <td>107</td>\n",
       "      <td>0.652</td>\n",
       "      <td>45</td>\n",
       "      <td>50</td>\n",
       "      <td>...</td>\n",
       "      <td>0.786</td>\n",
       "      <td>16</td>\n",
       "      <td>12</td>\n",
       "      <td>22</td>\n",
       "      <td>8</td>\n",
       "      <td>11</td>\n",
       "      <td>6</td>\n",
       "      <td>7</td>\n",
       "      <td>48.073171</td>\n",
       "      <td>41.256098</td>\n",
       "    </tr>\n",
       "    <tr>\n",
       "      <th>64</th>\n",
       "      <td>Boston Bruins</td>\n",
       "      <td>20182019</td>\n",
       "      <td>82</td>\n",
       "      <td>49</td>\n",
       "      <td>24</td>\n",
       "      <td>9</td>\n",
       "      <td>107</td>\n",
       "      <td>0.652</td>\n",
       "      <td>38</td>\n",
       "      <td>47</td>\n",
       "      <td>...</td>\n",
       "      <td>0.676</td>\n",
       "      <td>21</td>\n",
       "      <td>5</td>\n",
       "      <td>23</td>\n",
       "      <td>6</td>\n",
       "      <td>7</td>\n",
       "      <td>11</td>\n",
       "      <td>9</td>\n",
       "      <td>47.158537</td>\n",
       "      <td>41.707317</td>\n",
       "    </tr>\n",
       "    <tr>\n",
       "      <th>65</th>\n",
       "      <td>Washington Capitals</td>\n",
       "      <td>20182019</td>\n",
       "      <td>82</td>\n",
       "      <td>48</td>\n",
       "      <td>26</td>\n",
       "      <td>8</td>\n",
       "      <td>104</td>\n",
       "      <td>0.634</td>\n",
       "      <td>39</td>\n",
       "      <td>44</td>\n",
       "      <td>...</td>\n",
       "      <td>0.533</td>\n",
       "      <td>19</td>\n",
       "      <td>13</td>\n",
       "      <td>16</td>\n",
       "      <td>5</td>\n",
       "      <td>7</td>\n",
       "      <td>14</td>\n",
       "      <td>8</td>\n",
       "      <td>45.292683</td>\n",
       "      <td>47.060976</td>\n",
       "    </tr>\n",
       "    <tr>\n",
       "      <th>66</th>\n",
       "      <td>New York Islanders</td>\n",
       "      <td>20182019</td>\n",
       "      <td>82</td>\n",
       "      <td>48</td>\n",
       "      <td>27</td>\n",
       "      <td>7</td>\n",
       "      <td>103</td>\n",
       "      <td>0.628</td>\n",
       "      <td>37</td>\n",
       "      <td>43</td>\n",
       "      <td>...</td>\n",
       "      <td>0.613</td>\n",
       "      <td>19</td>\n",
       "      <td>10</td>\n",
       "      <td>19</td>\n",
       "      <td>6</td>\n",
       "      <td>9</td>\n",
       "      <td>12</td>\n",
       "      <td>7</td>\n",
       "      <td>43.231707</td>\n",
       "      <td>47.121951</td>\n",
       "    </tr>\n",
       "  </tbody>\n",
       "</table>\n",
       "<p>5 rows × 80 columns</p>\n",
       "</div>"
      ],
      "text/plain": [
       "                   Team    Season  GP   W   L  OT    P     P%  RW  ROW  ...  \\\n",
       "62  Tampa Bay Lightning  20182019  82  62  16   4  128  0.780  49   56  ...   \n",
       "63       Calgary Flames  20182019  82  50  25   7  107  0.652  45   50  ...   \n",
       "64        Boston Bruins  20182019  82  49  24   9  107  0.652  38   47  ...   \n",
       "65  Washington Capitals  20182019  82  48  26   8  104  0.634  39   44  ...   \n",
       "66   New York Islanders  20182019  82  48  27   7  103  0.628  37   43  ...   \n",
       "\n",
       "    Win% 3 Goal Game  Wins 1 Goal Game  Wins 2 Goal Game  Wins 3 Goal Game  \\\n",
       "62             0.789                24                 8                30   \n",
       "63             0.786                16                12                22   \n",
       "64             0.676                21                 5                23   \n",
       "65             0.533                19                13                16   \n",
       "66             0.613                19                10                19   \n",
       "\n",
       "    Loss 1 Goal Game  Loss 2 Goal Game  Loss 3 Goal Game  OT Loss 1 Goal Game  \\\n",
       "62                 3                 5                 8                    4   \n",
       "63                 8                11                 6                    7   \n",
       "64                 6                 7                11                    9   \n",
       "65                 5                 7                14                    8   \n",
       "66                 6                 9                12                    7   \n",
       "\n",
       "    SAT For/GP  SAT Agst/GP  \n",
       "62   46.658537    43.780488  \n",
       "63   48.073171    41.256098  \n",
       "64   47.158537    41.707317  \n",
       "65   45.292683    47.060976  \n",
       "66   43.231707    47.121951  \n",
       "\n",
       "[5 rows x 80 columns]"
      ]
     },
     "execution_count": 67,
     "metadata": {},
     "output_type": "execute_result"
    }
   ],
   "source": [
    "#Remove Covid-19 shortened season from dataset\n",
    "df_reduced = df[df['Season'] != '20202021']\n",
    "df_reduced = df_reduced[df_reduced['Season'] != '20192020']\n",
    "df_reduced.head()"
   ]
  },
  {
   "cell_type": "code",
   "execution_count": 68,
   "metadata": {},
   "outputs": [],
   "source": [
    "#TRAIN BEST MODEL (M5_reduced)\n",
    "\n",
    "#MODEL M5RR\n",
    "#Ridge Regression\n",
    "#Inputs: shot metrics, shooting/save percentage\n",
    "#Target: Regular season P%\n",
    "\n",
    "reg_col_name = 'P%'\n",
    "\n",
    "feature_names = ['SAT For/GP', 'SAT Agst/GP', 'SAT%', '5v5 S%', '5v5 Sv%', 'PP%','PK%']\n",
    "\n",
    "X_train, X_test, y_train, y_test = train_test_split(df.loc[:, feature_names], df[reg_col_name], test_size=0.3,random_state=2)\n",
    "\n",
    "M5RR_reduced = Ridge(alpha=0.1)\n",
    "M5RR_reduced.fit(X_train,y_train)\n",
    "\n",
    "y_pred = M5RR_reduced.predict(X_test)"
   ]
  },
  {
   "cell_type": "code",
   "execution_count": 69,
   "metadata": {},
   "outputs": [
    {
     "name": "stdout",
     "output_type": "stream",
     "text": [
      "Mean Absolute Error: 0.02511585765061583\n",
      "Mean Squared Error: 0.0011778810039069912\n",
      "Root Mean Squared Error: 0.03432027103487079\n",
      "R-Squared: 0.8521876267111418\n",
      "Adjusted R-Squared: 0.8417362467816265\n"
     ]
    }
   ],
   "source": [
    "print('Mean Absolute Error:', metrics.mean_absolute_error(y_test, y_pred))\n",
    "print('Mean Squared Error:', metrics.mean_squared_error(y_test, y_pred))\n",
    "print('Root Mean Squared Error:', np.sqrt(metrics.mean_squared_error(y_test, y_pred)))\n",
    "print('R-Squared:', metrics.r2_score(y_test, y_pred))\n",
    "print('Adjusted R-Squared:', 1 - (1-metrics.r2_score(y_test, y_pred))*(len(y_train)-1)/(len(y_train)-X_train.shape[1]-1))"
   ]
  },
  {
   "cell_type": "code",
   "execution_count": null,
   "metadata": {},
   "outputs": [],
   "source": []
  }
 ],
 "metadata": {
  "kernelspec": {
   "display_name": "Python 3",
   "language": "python",
   "name": "python3"
  },
  "language_info": {
   "codemirror_mode": {
    "name": "ipython",
    "version": 3
   },
   "file_extension": ".py",
   "mimetype": "text/x-python",
   "name": "python",
   "nbconvert_exporter": "python",
   "pygments_lexer": "ipython3",
   "version": "3.7.6"
  }
 },
 "nbformat": 4,
 "nbformat_minor": 4
}
